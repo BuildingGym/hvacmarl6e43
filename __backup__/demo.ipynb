{
 "cells": [
  {
   "cell_type": "code",
   "execution_count": 3,
   "metadata": {
    "editable": true,
    "slideshow": {
     "slide_type": ""
    },
    "tags": []
   },
   "outputs": [],
   "source": [
    "#%pip install --extra-index-url https://test.pypi.org/simple ../../EnergyPlus-OOEP/\n",
    "#%pip install git+https://github.com/NTU-CCA-HVAC-OPTIM-a842a748/EnergyPlus-Datasets.git\n",
    "#%pip install ipywidgets tqdm gymnasium torch ray[rllib]\n",
    "#%pip install pythermalcomfort\n",
    "#%pip install matplotlib\n",
    "#%pip install matplotlib ipympl"
   ]
  },
  {
   "cell_type": "code",
   "execution_count": 4,
   "metadata": {},
   "outputs": [
    {
     "ename": "ModuleNotFoundError",
     "evalue": "No module named 'energyplus.ooep.addons.display'",
     "output_type": "error",
     "traceback": [
      "\u001b[0;31m---------------------------------------------------------------------------\u001b[0m",
      "\u001b[0;31mModuleNotFoundError\u001b[0m                       Traceback (most recent call last)",
      "Cell \u001b[0;32mIn[4], line 3\u001b[0m\n\u001b[1;32m      1\u001b[0m \u001b[38;5;28;01mimport\u001b[39;00m \u001b[38;5;21;01menergyplus\u001b[39;00m\u001b[38;5;21;01m.\u001b[39;00m\u001b[38;5;21;01mooep\u001b[39;00m \u001b[38;5;28;01mas\u001b[39;00m \u001b[38;5;21;01m_ooep_\u001b[39;00m\n\u001b[0;32m----> 3\u001b[0m \u001b[38;5;28;01mfrom\u001b[39;00m \u001b[38;5;21;01menergyplus\u001b[39;00m\u001b[38;5;21;01m.\u001b[39;00m\u001b[38;5;21;01mooep\u001b[39;00m\u001b[38;5;21;01m.\u001b[39;00m\u001b[38;5;21;01maddons\u001b[39;00m\u001b[38;5;21;01m.\u001b[39;00m\u001b[38;5;21;01mdisplay\u001b[39;00m \u001b[38;5;28;01mimport\u001b[39;00m ProgressProvider\n\u001b[1;32m      5\u001b[0m \u001b[38;5;28;01mfrom\u001b[39;00m \u001b[38;5;21;01menergyplus\u001b[39;00m\u001b[38;5;21;01m.\u001b[39;00m\u001b[38;5;21;01mooep\u001b[39;00m \u001b[38;5;28;01mimport\u001b[39;00m (\n\u001b[1;32m      6\u001b[0m     Simulator,\n\u001b[1;32m      7\u001b[0m     Model,\n\u001b[1;32m      8\u001b[0m     Weather,\n\u001b[1;32m      9\u001b[0m     Report,\n\u001b[1;32m     10\u001b[0m )\n\u001b[1;32m     12\u001b[0m \u001b[38;5;28;01mfrom\u001b[39;00m \u001b[38;5;21;01menergyplus\u001b[39;00m\u001b[38;5;21;01m.\u001b[39;00m\u001b[38;5;21;01mdataset\u001b[39;00m\u001b[38;5;21;01m.\u001b[39;00m\u001b[38;5;21;01mbasic\u001b[39;00m \u001b[38;5;28;01mimport\u001b[39;00m dataset \u001b[38;5;28;01mas\u001b[39;00m _epds_\n",
      "\u001b[0;31mModuleNotFoundError\u001b[0m: No module named 'energyplus.ooep.addons.display'"
     ]
    }
   ],
   "source": [
    "import energyplus.ooep as _ooep_\n",
    "\n",
    "from energyplus.ooep.addons.logging import ProgressLogger\n",
    "\n",
    "from energyplus.ooep import (\n",
    "    Simulator,\n",
    "    InputModel,\n",
    "    Report,\n",
    ")\n",
    "\n",
    "from energyplus.dataset.basic import dataset as _epds_\n",
    "\n",
    "simulator = _ooep_.Simulator().add(\n",
    "    ProgressLogger(),\n",
    ")\n"
   ]
  },
  {
   "cell_type": "code",
   "execution_count": null,
   "metadata": {},
   "outputs": [
    {
     "name": "stdout",
     "output_type": "stream",
     "text": [
      "EnergyPlus Starting\n",
      "EnergyPlus, Version 23.2.0-7636e6b3e9, YMD=2024.04.21 01:42\n",
      "Converted input file format. Exiting.\n",
      "EnergyPlus Run Time=00hr 00min  0.22sec\n"
     ]
    },
    {
     "name": "stderr",
     "output_type": "stream",
     "text": [
      "EnergyPlus Completed Successfully.\n"
     ]
    }
   ],
   "source": [
    "model = InputModel().loadf('./data/model-current.idf')"
   ]
  },
  {
   "cell_type": "code",
   "execution_count": null,
   "metadata": {},
   "outputs": [],
   "source": [
    "model['Timestep']['Timestep 1']['number_of_timesteps_per_hour'] = 2"
   ]
  },
  {
   "cell_type": "code",
   "execution_count": null,
   "metadata": {},
   "outputs": [
    {
     "data": {
      "text/plain": [
       "<Task pending name='Task-5' coro=<Engine.run_forever() running at /home/user@AD/lab/reports/apr01/.venv/lib/python3.11/site-packages/energyplus/ooep/utils/awaitables.py:68>>"
      ]
     },
     "execution_count": 5,
     "metadata": {},
     "output_type": "execute_result"
    }
   ],
   "source": [
    "simulator.awaitable.run_forever(\n",
    "    input=Simulator.InputSpecs(\n",
    "        #model='./data/model-current.idf',\n",
    "        model=model,\n",
    "        weather=f'./data/SGP_Singapore_486980_IWEC.epw',\n",
    "    ),\n",
    "    output=Simulator.OutputSpecs(\n",
    "        report=Report().open('.ooep-report-9e1287d2-8e75-4cf5-bbc5-f76580b56a69'),\n",
    "    ),\n",
    "    options=Simulator.RuntimeOptions(\n",
    "        #design_day=True,\n",
    "    ),\n",
    ")"
   ]
  },
  {
   "cell_type": "code",
   "execution_count": null,
   "metadata": {},
   "outputs": [
    {
     "name": "stderr",
     "output_type": "stream",
     "text": [
      "/home/user@AD/lab/reports/apr01/.venv/lib/python3.11/site-packages/matplotlib_inline/config.py:59: DeprecationWarning: InlineBackend._figure_formats_changed is deprecated in traitlets 4.1: use @observe and @unobserve instead.\n",
      "  def _figure_formats_changed(self, name, old, new):\n",
      "/home/user@AD/lab/reports/apr01/.venv/lib/python3.11/site-packages/ray/rllib/algorithms/algorithm.py:500: RayDeprecationWarning: This API is deprecated and may be removed in future Ray releases. You could suppress this warning by setting env variable PYTHONWARNINGS=\"ignore::DeprecationWarning\"\n",
      "`UnifiedLogger` will be removed in Ray 2.7.\n",
      "  return UnifiedLogger(config, logdir, loggers=None)\n",
      "/home/user@AD/lab/reports/apr01/.venv/lib/python3.11/site-packages/ray/tune/logger/unified.py:53: RayDeprecationWarning: This API is deprecated and may be removed in future Ray releases. You could suppress this warning by setting env variable PYTHONWARNINGS=\"ignore::DeprecationWarning\"\n",
      "The `JsonLogger interface is deprecated in favor of the `ray.tune.json.JsonLoggerCallback` interface and will be removed in Ray 2.7.\n",
      "  self._loggers.append(cls(self.config, self.logdir, self.trial))\n",
      "2024-04-21 01:42:26,733\tWARNING unified.py:56 -- Could not instantiate JsonLogger: cannot pickle '_hashlib.HMAC' object.\n",
      "/home/user@AD/lab/reports/apr01/.venv/lib/python3.11/site-packages/ray/tune/logger/unified.py:53: RayDeprecationWarning: This API is deprecated and may be removed in future Ray releases. You could suppress this warning by setting env variable PYTHONWARNINGS=\"ignore::DeprecationWarning\"\n",
      "The `CSVLogger interface is deprecated in favor of the `ray.tune.csv.CSVLoggerCallback` interface and will be removed in Ray 2.7.\n",
      "  self._loggers.append(cls(self.config, self.logdir, self.trial))\n",
      "/home/user@AD/lab/reports/apr01/.venv/lib/python3.11/site-packages/ray/tune/logger/unified.py:53: RayDeprecationWarning: This API is deprecated and may be removed in future Ray releases. You could suppress this warning by setting env variable PYTHONWARNINGS=\"ignore::DeprecationWarning\"\n",
      "The `TBXLogger interface is deprecated in favor of the `ray.tune.tensorboardx.TBXLoggerCallback` interface and will be removed in Ray 2.7.\n",
      "  self._loggers.append(cls(self.config, self.logdir, self.trial))\n",
      "2024-04-21 01:42:26,856\tWARNING env.py:89 -- Env checking isn't implemented for RemoteBaseEnvs, ExternalMultiAgentEnv, ExternalEnvs or environments that are Ray actors.\n",
      "/home/user@AD/lab/reports/apr01/.venv/lib/python3.11/site-packages/ray/rllib/models/preprocessors.py:314: DeprecationWarning: `product` is deprecated as of NumPy 1.25.0, and will be removed in NumPy 2.0. Please use `prod` instead.\n",
      "  preprocessor = preprocessor_class(space, self._options)\n",
      "/home/user@AD/lab/reports/apr01/.venv/lib/python3.11/site-packages/ray/rllib/models/preprocessors.py:314: DeprecationWarning: `product` is deprecated as of NumPy 1.25.0, and will be removed in NumPy 2.0. Please use `prod` instead.\n",
      "  preprocessor = preprocessor_class(space, self._options)\n",
      "/home/user@AD/lab/reports/apr01/.venv/lib/python3.11/site-packages/ray/rllib/models/preprocessors.py:314: DeprecationWarning: `product` is deprecated as of NumPy 1.25.0, and will be removed in NumPy 2.0. Please use `prod` instead.\n",
      "  preprocessor = preprocessor_class(space, self._options)\n",
      "/home/user@AD/lab/reports/apr01/.venv/lib/python3.11/site-packages/ray/rllib/models/preprocessors.py:314: DeprecationWarning: `product` is deprecated as of NumPy 1.25.0, and will be removed in NumPy 2.0. Please use `prod` instead.\n",
      "  preprocessor = preprocessor_class(space, self._options)\n",
      "/home/user@AD/lab/reports/apr01/.venv/lib/python3.11/site-packages/ray/rllib/models/catalog.py:895: DeprecationWarning: `product` is deprecated as of NumPy 1.25.0, and will be removed in NumPy 2.0. Please use `prod` instead.\n",
      "  prep = cls(observation_space, options)\n",
      "/home/user@AD/lab/reports/apr01/.venv/lib/python3.11/site-packages/ray/rllib/models/catalog.py:831: DeprecationWarning: `product` is deprecated as of NumPy 1.25.0, and will be removed in NumPy 2.0. Please use `prod` instead.\n",
      "  return wrapper(\n",
      "/home/user@AD/lab/reports/apr01/.venv/lib/python3.11/site-packages/ray/rllib/models/catalog.py:831: DeprecationWarning: `product` is deprecated as of NumPy 1.25.0, and will be removed in NumPy 2.0. Please use `prod` instead.\n",
      "  return wrapper(\n",
      "/home/user@AD/lab/reports/apr01/.venv/lib/python3.11/site-packages/ray/rllib/policy/policy.py:1708: DeprecationWarning: `product` is deprecated as of NumPy 1.25.0, and will be removed in NumPy 2.0. Please use `prod` instead.\n",
      "  _, shape = ModelCatalog.get_action_shape(\n",
      "/home/user@AD/lab/reports/apr01/.venv/lib/python3.11/site-packages/ray/rllib/policy/policy.py:1708: DeprecationWarning: `product` is deprecated as of NumPy 1.25.0, and will be removed in NumPy 2.0. Please use `prod` instead.\n",
      "  _, shape = ModelCatalog.get_action_shape(\n",
      "/home/user@AD/lab/reports/apr01/.venv/lib/python3.11/site-packages/ray/rllib/policy/policy.py:1708: DeprecationWarning: `product` is deprecated as of NumPy 1.25.0, and will be removed in NumPy 2.0. Please use `prod` instead.\n",
      "  _, shape = ModelCatalog.get_action_shape(\n",
      "/home/user@AD/lab/reports/apr01/.venv/lib/python3.11/site-packages/ray/rllib/policy/policy.py:1708: DeprecationWarning: `product` is deprecated as of NumPy 1.25.0, and will be removed in NumPy 2.0. Please use `prod` instead.\n",
      "  _, shape = ModelCatalog.get_action_shape(\n",
      "/home/user@AD/lab/reports/apr01/.venv/lib/python3.11/site-packages/ray/rllib/models/preprocessors.py:314: DeprecationWarning: `product` is deprecated as of NumPy 1.25.0, and will be removed in NumPy 2.0. Please use `prod` instead.\n",
      "  preprocessor = preprocessor_class(space, self._options)\n",
      "/home/user@AD/lab/reports/apr01/.venv/lib/python3.11/site-packages/ray/rllib/models/preprocessors.py:314: DeprecationWarning: `product` is deprecated as of NumPy 1.25.0, and will be removed in NumPy 2.0. Please use `prod` instead.\n",
      "  preprocessor = preprocessor_class(space, self._options)\n",
      "/home/user@AD/lab/reports/apr01/.venv/lib/python3.11/site-packages/ray/rllib/models/preprocessors.py:314: DeprecationWarning: `product` is deprecated as of NumPy 1.25.0, and will be removed in NumPy 2.0. Please use `prod` instead.\n",
      "  preprocessor = preprocessor_class(space, self._options)\n",
      "/home/user@AD/lab/reports/apr01/.venv/lib/python3.11/site-packages/ray/rllib/models/preprocessors.py:314: DeprecationWarning: `product` is deprecated as of NumPy 1.25.0, and will be removed in NumPy 2.0. Please use `prod` instead.\n",
      "  preprocessor = preprocessor_class(space, self._options)\n",
      "/home/user@AD/lab/reports/apr01/.venv/lib/python3.11/site-packages/ray/rllib/models/modelv2.py:414: DeprecationWarning: `product` is deprecated as of NumPy 1.25.0, and will be removed in NumPy 2.0. Please use `prod` instead.\n",
      "  prep = get_preprocessor(space)(space)\n",
      "/home/user@AD/lab/reports/apr01/.venv/lib/python3.11/site-packages/ray/rllib/policy/policy.py:1708: DeprecationWarning: `product` is deprecated as of NumPy 1.25.0, and will be removed in NumPy 2.0. Please use `prod` instead.\n",
      "  _, shape = ModelCatalog.get_action_shape(\n",
      "/home/user@AD/lab/reports/apr01/.venv/lib/python3.11/site-packages/ray/rllib/policy/policy.py:1708: DeprecationWarning: `product` is deprecated as of NumPy 1.25.0, and will be removed in NumPy 2.0. Please use `prod` instead.\n",
      "  _, shape = ModelCatalog.get_action_shape(\n",
      "/home/user@AD/lab/reports/apr01/.venv/lib/python3.11/site-packages/ray/rllib/policy/policy.py:1708: DeprecationWarning: `product` is deprecated as of NumPy 1.25.0, and will be removed in NumPy 2.0. Please use `prod` instead.\n",
      "  _, shape = ModelCatalog.get_action_shape(\n",
      "/home/user@AD/lab/reports/apr01/.venv/lib/python3.11/site-packages/ray/rllib/policy/policy.py:1708: DeprecationWarning: `product` is deprecated as of NumPy 1.25.0, and will be removed in NumPy 2.0. Please use `prod` instead.\n",
      "  _, shape = ModelCatalog.get_action_shape(\n",
      "2024-04-21 01:42:27,562\tWARNING util.py:62 -- Install gputil for GPU system monitoring.\n"
     ]
    }
   ],
   "source": [
    "import numpy as _numpy_\n",
    "import gymnasium as _gymnasium_\n",
    "from energyplus.ooep.addons.rl.gymnasium.spaces import VariableBox\n",
    "from energyplus.ooep.addons.rl.ray import SimulatorEnv\n",
    "\n",
    "from energyplus.ooep.components.variables import (\n",
    "    Actuator,\n",
    "    OutputVariable,\n",
    ")\n",
    "import pythermalcomfort as pytc\n",
    "import matplotlib as plt\n",
    "from ray.rllib.algorithms.ppo import PPOConfig\n",
    "import time\n",
    "%config InlineBackend.figure_formats = ['svg']\n",
    "%matplotlib widget\n",
    "\n",
    "import matplotlib as _matplotlib_\n",
    "import matplotlib.pyplot as _plt_\n",
    "\n",
    "\n",
    "\n",
    "class RewardFunction:\n",
    "    def __init__(self, metab_rate=1.5, clothing=.5, pmv_limit=3.):\n",
    "        self._metab_rate = _numpy_.asarray(metab_rate)\n",
    "        self._clothing = _numpy_.asarray(clothing)\n",
    "        self._pmv_limit = _numpy_.asarray(pmv_limit)\n",
    "        self.energy_consumption_largest = 0.1\n",
    "   \n",
    "    def __call__(self, observation):            \n",
    "        self.energy_consumption = observation['AHU energy consumption']\n",
    "        if self.energy_consumption >= self.energy_consumption_largest:\n",
    "            self.energy_consumption_largest = self.energy_consumption\n",
    "        self.energy_efficiency = (self.energy_consumption_largest - self.energy_consumption) / self.energy_consumption_largest\n",
    "        pmv = pytc.models.pmv_ppd(\n",
    "            tdb=(tdb := observation['temperature:drybulb']), \n",
    "            tr=observation['temperature:radiant'], \n",
    "            # calculate relative air speed\n",
    "            vr=pytc.utilities.v_relative(v=observation.get('airspeed', .1), met=self._metab_rate), \n",
    "            rh=observation['humidity'], \n",
    "            met=self._metab_rate, \n",
    "            # calculate dynamic clothing\n",
    "            clo=pytc.utilities.clo_dynamic(clo=self._clothing, met=self._metab_rate),\n",
    "        )['pmv']\n",
    "        #print(((self._pmv_limit - _numpy_.abs(pmv)) / self._pmv_limit) - self.energy_efficiency)\n",
    "        detect= _numpy_.mean(\n",
    "                [(self._pmv_limit - _numpy_.abs(pmv)) / self._pmv_limit, -self.energy_efficiency],\n",
    "                axis=0,\n",
    "            )\n",
    "        # draw_curve.update(self.detect) \n",
    "\n",
    "        simulator.variables.on(_ooep_.WallClock.Ref())\n",
    "        if _numpy_.isnan(detect):\n",
    "            print(simulator.variables[_ooep_.WallClock.Ref()].value, observation)\n",
    "            return 0.\n",
    "        # print(simulator.variables[_ooep_.WallClock.Ref()].value)\n",
    "        return (\n",
    "            (self._pmv_limit - _numpy_.abs(pmv)) / self._pmv_limit\n",
    "        )\n",
    "    \n",
    "config = (\n",
    "    PPOConfig.from_dict({        \n",
    "        'create_env_on_local_worker': True\n",
    "    })\n",
    "    .resources(num_gpus=1)\n",
    "    .environment(\n",
    "        SimulatorEnv, \n",
    "        env_config=SimulatorEnv.Config(\n",
    "            action_space=_gymnasium_.spaces.Dict({\n",
    "                'temperature': VariableBox(\n",
    "                    low=20., high=30.,\n",
    "                    dtype=_numpy_.float32,\n",
    "                    shape=(),\n",
    "                ).bind(Actuator.Ref(\n",
    "                    type='Zone Temperature Control',\n",
    "                    control_type='Cooling Setpoint',\n",
    "                    key='1FXOFFICE:ZONE1',\n",
    "                )),\n",
    "                'humidity':VariableBox(\n",
    "                    low=0., high=1.,\n",
    "                    dtype=_numpy_.float32,\n",
    "                    shape=(),\n",
    "                ).bind(Actuator.Ref(\n",
    "                    type='System Node Setpoint',\n",
    "                    control_type='Humidity Ratio Setpoint',\n",
    "                    key='1FXOFFICE:ZONE1 ZONE AIR NODE',\n",
    "                )),\n",
    "            }),    \n",
    "            observation_space=_gymnasium_.spaces.Dict({\n",
    "                'temperature:drybulb': VariableBox(\n",
    "                    low=-_numpy_.inf, high=+_numpy_.inf,\n",
    "                    dtype=_numpy_.float32,\n",
    "                    shape=(),\n",
    "                ).bind(OutputVariable.Ref(\n",
    "                    type='Zone Mean Air Temperature',\n",
    "                    key='1FXOFFICE:ZONE1',\n",
    "                )),\n",
    "                'temperature:radiant' : VariableBox(\n",
    "                    low=-_numpy_.inf, high=+_numpy_.inf,\n",
    "                    dtype=_numpy_.float32,\n",
    "                    shape=(),\n",
    "                ).bind(OutputVariable.Ref(\n",
    "                    type='Zone Mean Radiant Temperature',\n",
    "                    key='1FXOFFICE:ZONE1',\n",
    "                )),\n",
    "                'humidity' : VariableBox(\n",
    "                    low=-_numpy_.inf, high=+_numpy_.inf,\n",
    "                    dtype=_numpy_.float32,\n",
    "                    shape=(),\n",
    "                ).bind(OutputVariable.Ref(\n",
    "                    type='Zone Air Relative Humidity',\n",
    "                    key='1FXOFFICE:ZONE1',\n",
    "                )),\n",
    "                'AHU energy consumption' : VariableBox(\n",
    "                    low=-_numpy_.inf, high=+_numpy_.inf,\n",
    "                    dtype=_numpy_.float32,\n",
    "                    shape=(),\n",
    "                ).bind(OutputVariable.Ref(\n",
    "                    type='Fan Electricity Rate',\n",
    "                    key='AIR LOOP 5 AHU SUPPLY FAN',\n",
    "                )),\n",
    "            }),\n",
    "            reward_function=RewardFunction(),\n",
    "            event_refs=[\n",
    "                'begin_zone_timestep_after_init_heat_balance',\n",
    "            ],\n",
    "            simulator_factory=lambda simulator=simulator: simulator,\n",
    "        )\n",
    "    )\n",
    "    .rollouts(\n",
    "        #num_rollout_workers=10,\n",
    "        num_rollout_workers=0,\n",
    "        enable_connectors=False,\n",
    "    )\n",
    "    .framework(\"torch\")\n",
    "    .training(model={\"fcnet_hiddens\": [64, 64]},\n",
    "             lr=0.0001)\n",
    "    .evaluation(\n",
    "        #evaluation_interval=1,\n",
    "        #evaluation_num_workers=0\n",
    "    )\n",
    ")\n",
    "\n",
    "\n",
    "algo = config.build(use_copy=True)"
   ]
  },
  {
   "cell_type": "code",
   "execution_count": null,
   "metadata": {},
   "outputs": [],
   "source": [
    "# force simulator to rerun to make the newly requested variables available\n",
    "simulator.stop()\n",
    "# start training\n",
    "for _ in range(10):\n",
    "    print(algo.train())"
   ]
  },
  {
   "cell_type": "code",
   "execution_count": null,
   "metadata": {},
   "outputs": [
    {
     "ename": "KeyboardInterrupt",
     "evalue": "",
     "output_type": "error",
     "traceback": [
      "\u001b[0;31m---------------------------------------------------------------------------\u001b[0m",
      "\u001b[0;31mKeyboardInterrupt\u001b[0m                         Traceback (most recent call last)",
      "Cell \u001b[0;32mIn[25], line 1\u001b[0m\n\u001b[0;32m----> 1\u001b[0m \u001b[43malgo\u001b[49m\u001b[38;5;241;43m.\u001b[39;49m\u001b[43mevaluate\u001b[49m\u001b[43m(\u001b[49m\u001b[43m)\u001b[49m\n",
      "File \u001b[0;32m~/lab/reports/apr01/.venv/lib/python3.11/site-packages/ray/rllib/algorithms/algorithm.py:1010\u001b[0m, in \u001b[0;36mAlgorithm.evaluate\u001b[0;34m(self, duration_fn)\u001b[0m\n\u001b[1;32m   1008\u001b[0m iters \u001b[38;5;241m=\u001b[39m duration \u001b[38;5;28;01mif\u001b[39;00m unit \u001b[38;5;241m==\u001b[39m \u001b[38;5;124m\"\u001b[39m\u001b[38;5;124mepisodes\u001b[39m\u001b[38;5;124m\"\u001b[39m \u001b[38;5;28;01melse\u001b[39;00m \u001b[38;5;241m1\u001b[39m\n\u001b[1;32m   1009\u001b[0m \u001b[38;5;28;01mfor\u001b[39;00m _ \u001b[38;5;129;01min\u001b[39;00m \u001b[38;5;28mrange\u001b[39m(iters):\n\u001b[0;32m-> 1010\u001b[0m     batch \u001b[38;5;241m=\u001b[39m \u001b[38;5;28;43mself\u001b[39;49m\u001b[38;5;241;43m.\u001b[39;49m\u001b[43mworkers\u001b[49m\u001b[38;5;241;43m.\u001b[39;49m\u001b[43mlocal_worker\u001b[49m\u001b[43m(\u001b[49m\u001b[43m)\u001b[49m\u001b[38;5;241;43m.\u001b[39;49m\u001b[43msample\u001b[49m\u001b[43m(\u001b[49m\u001b[43m)\u001b[49m\n\u001b[1;32m   1011\u001b[0m     agent_steps_this_iter \u001b[38;5;241m+\u001b[39m\u001b[38;5;241m=\u001b[39m batch\u001b[38;5;241m.\u001b[39magent_steps()\n\u001b[1;32m   1012\u001b[0m     env_steps_this_iter \u001b[38;5;241m+\u001b[39m\u001b[38;5;241m=\u001b[39m batch\u001b[38;5;241m.\u001b[39menv_steps()\n",
      "File \u001b[0;32m~/lab/reports/apr01/.venv/lib/python3.11/site-packages/ray/rllib/evaluation/rollout_worker.py:694\u001b[0m, in \u001b[0;36mRolloutWorker.sample\u001b[0;34m(self, **kwargs)\u001b[0m\n\u001b[1;32m    687\u001b[0m \u001b[38;5;28;01mif\u001b[39;00m log_once(\u001b[38;5;124m\"\u001b[39m\u001b[38;5;124msample_start\u001b[39m\u001b[38;5;124m\"\u001b[39m):\n\u001b[1;32m    688\u001b[0m     logger\u001b[38;5;241m.\u001b[39minfo(\n\u001b[1;32m    689\u001b[0m         \u001b[38;5;124m\"\u001b[39m\u001b[38;5;124mGenerating sample batch of size \u001b[39m\u001b[38;5;132;01m{}\u001b[39;00m\u001b[38;5;124m\"\u001b[39m\u001b[38;5;241m.\u001b[39mformat(\n\u001b[1;32m    690\u001b[0m             \u001b[38;5;28mself\u001b[39m\u001b[38;5;241m.\u001b[39mtotal_rollout_fragment_length\n\u001b[1;32m    691\u001b[0m         )\n\u001b[1;32m    692\u001b[0m     )\n\u001b[0;32m--> 694\u001b[0m batches \u001b[38;5;241m=\u001b[39m [\u001b[38;5;28;43mself\u001b[39;49m\u001b[38;5;241;43m.\u001b[39;49m\u001b[43minput_reader\u001b[49m\u001b[38;5;241;43m.\u001b[39;49m\u001b[43mnext\u001b[49m\u001b[43m(\u001b[49m\u001b[43m)\u001b[49m]\n\u001b[1;32m    695\u001b[0m steps_so_far \u001b[38;5;241m=\u001b[39m (\n\u001b[1;32m    696\u001b[0m     batches[\u001b[38;5;241m0\u001b[39m]\u001b[38;5;241m.\u001b[39mcount\n\u001b[1;32m    697\u001b[0m     \u001b[38;5;28;01mif\u001b[39;00m \u001b[38;5;28mself\u001b[39m\u001b[38;5;241m.\u001b[39mconfig\u001b[38;5;241m.\u001b[39mcount_steps_by \u001b[38;5;241m==\u001b[39m \u001b[38;5;124m\"\u001b[39m\u001b[38;5;124menv_steps\u001b[39m\u001b[38;5;124m\"\u001b[39m\n\u001b[1;32m    698\u001b[0m     \u001b[38;5;28;01melse\u001b[39;00m batches[\u001b[38;5;241m0\u001b[39m]\u001b[38;5;241m.\u001b[39magent_steps()\n\u001b[1;32m    699\u001b[0m )\n\u001b[1;32m    701\u001b[0m \u001b[38;5;66;03m# In truncate_episodes mode, never pull more than 1 batch per env.\u001b[39;00m\n\u001b[1;32m    702\u001b[0m \u001b[38;5;66;03m# This avoids over-running the target batch size.\u001b[39;00m\n",
      "File \u001b[0;32m~/lab/reports/apr01/.venv/lib/python3.11/site-packages/ray/rllib/evaluation/sampler.py:91\u001b[0m, in \u001b[0;36mSamplerInput.next\u001b[0;34m(self)\u001b[0m\n\u001b[1;32m     89\u001b[0m \u001b[38;5;129m@override\u001b[39m(InputReader)\n\u001b[1;32m     90\u001b[0m \u001b[38;5;28;01mdef\u001b[39;00m \u001b[38;5;21mnext\u001b[39m(\u001b[38;5;28mself\u001b[39m) \u001b[38;5;241m-\u001b[39m\u001b[38;5;241m>\u001b[39m SampleBatchType:\n\u001b[0;32m---> 91\u001b[0m     batches \u001b[38;5;241m=\u001b[39m [\u001b[38;5;28;43mself\u001b[39;49m\u001b[38;5;241;43m.\u001b[39;49m\u001b[43mget_data\u001b[49m\u001b[43m(\u001b[49m\u001b[43m)\u001b[49m]\n\u001b[1;32m     92\u001b[0m     batches\u001b[38;5;241m.\u001b[39mextend(\u001b[38;5;28mself\u001b[39m\u001b[38;5;241m.\u001b[39mget_extra_batches())\n\u001b[1;32m     93\u001b[0m     \u001b[38;5;28;01mif\u001b[39;00m \u001b[38;5;28mlen\u001b[39m(batches) \u001b[38;5;241m==\u001b[39m \u001b[38;5;241m0\u001b[39m:\n",
      "File \u001b[0;32m~/lab/reports/apr01/.venv/lib/python3.11/site-packages/ray/rllib/evaluation/sampler.py:273\u001b[0m, in \u001b[0;36mSyncSampler.get_data\u001b[0;34m(self)\u001b[0m\n\u001b[1;32m    270\u001b[0m \u001b[38;5;129m@override\u001b[39m(SamplerInput)\n\u001b[1;32m    271\u001b[0m \u001b[38;5;28;01mdef\u001b[39;00m \u001b[38;5;21mget_data\u001b[39m(\u001b[38;5;28mself\u001b[39m) \u001b[38;5;241m-\u001b[39m\u001b[38;5;241m>\u001b[39m SampleBatchType:\n\u001b[1;32m    272\u001b[0m     \u001b[38;5;28;01mwhile\u001b[39;00m \u001b[38;5;28;01mTrue\u001b[39;00m:\n\u001b[0;32m--> 273\u001b[0m         item \u001b[38;5;241m=\u001b[39m \u001b[38;5;28mnext\u001b[39m(\u001b[38;5;28mself\u001b[39m\u001b[38;5;241m.\u001b[39m_env_runner)\n\u001b[1;32m    274\u001b[0m         \u001b[38;5;28;01mif\u001b[39;00m \u001b[38;5;28misinstance\u001b[39m(item, RolloutMetrics):\n\u001b[1;32m    275\u001b[0m             \u001b[38;5;28mself\u001b[39m\u001b[38;5;241m.\u001b[39mmetrics_queue\u001b[38;5;241m.\u001b[39mput(item)\n",
      "File \u001b[0;32m~/lab/reports/apr01/.venv/lib/python3.11/site-packages/ray/rllib/evaluation/sampler.py:381\u001b[0m, in \u001b[0;36m_env_runner\u001b[0;34m(worker, base_env, extra_batch_callback, normalize_actions, clip_actions, multiple_episodes_in_batch, callbacks, perf_stats, observation_fn, sample_collector, render)\u001b[0m\n\u001b[1;32m    371\u001b[0m t0 \u001b[38;5;241m=\u001b[39m time\u001b[38;5;241m.\u001b[39mtime()\n\u001b[1;32m    372\u001b[0m \u001b[38;5;66;03m# Get observations from all ready agents.\u001b[39;00m\n\u001b[1;32m    373\u001b[0m \u001b[38;5;66;03m# types: MultiEnvDict, MultiEnvDict, MultiEnvDict, MultiEnvDict, ...\u001b[39;00m\n\u001b[1;32m    374\u001b[0m (\n\u001b[1;32m    375\u001b[0m     unfiltered_obs,\n\u001b[1;32m    376\u001b[0m     rewards,\n\u001b[1;32m    377\u001b[0m     terminateds,\n\u001b[1;32m    378\u001b[0m     truncateds,\n\u001b[1;32m    379\u001b[0m     infos,\n\u001b[1;32m    380\u001b[0m     off_policy_actions,\n\u001b[0;32m--> 381\u001b[0m ) \u001b[38;5;241m=\u001b[39m \u001b[43mbase_env\u001b[49m\u001b[38;5;241;43m.\u001b[39;49m\u001b[43mpoll\u001b[49m\u001b[43m(\u001b[49m\u001b[43m)\u001b[49m\n\u001b[1;32m    382\u001b[0m env_poll_time \u001b[38;5;241m=\u001b[39m time\u001b[38;5;241m.\u001b[39mtime() \u001b[38;5;241m-\u001b[39m t0\n\u001b[1;32m    384\u001b[0m \u001b[38;5;28;01mif\u001b[39;00m log_once(\u001b[38;5;124m\"\u001b[39m\u001b[38;5;124menv_returns\u001b[39m\u001b[38;5;124m\"\u001b[39m):\n",
      "File \u001b[0;32m~/lab/reports/apr01/.venv/lib/python3.11/site-packages/ray/rllib/env/external_env.py:377\u001b[0m, in \u001b[0;36mExternalEnvWrapper.poll\u001b[0;34m(self)\u001b[0m\n\u001b[1;32m    375\u001b[0m results \u001b[38;5;241m=\u001b[39m \u001b[38;5;28mself\u001b[39m\u001b[38;5;241m.\u001b[39m_poll()\n\u001b[1;32m    376\u001b[0m \u001b[38;5;28;01mwhile\u001b[39;00m \u001b[38;5;28mlen\u001b[39m(results[\u001b[38;5;241m0\u001b[39m]) \u001b[38;5;241m==\u001b[39m \u001b[38;5;241m0\u001b[39m:\n\u001b[0;32m--> 377\u001b[0m     \u001b[38;5;28;43mself\u001b[39;49m\u001b[38;5;241;43m.\u001b[39;49m\u001b[43mexternal_env\u001b[49m\u001b[38;5;241;43m.\u001b[39;49m\u001b[43m_results_avail_condition\u001b[49m\u001b[38;5;241;43m.\u001b[39;49m\u001b[43mwait\u001b[49m\u001b[43m(\u001b[49m\u001b[43m)\u001b[49m\n\u001b[1;32m    378\u001b[0m     results \u001b[38;5;241m=\u001b[39m \u001b[38;5;28mself\u001b[39m\u001b[38;5;241m.\u001b[39m_poll()\n\u001b[1;32m    379\u001b[0m     \u001b[38;5;28;01mif\u001b[39;00m \u001b[38;5;129;01mnot\u001b[39;00m \u001b[38;5;28mself\u001b[39m\u001b[38;5;241m.\u001b[39mexternal_env\u001b[38;5;241m.\u001b[39mis_alive():\n",
      "File \u001b[0;32m/usr/lib/python3.11/threading.py:320\u001b[0m, in \u001b[0;36mCondition.wait\u001b[0;34m(self, timeout)\u001b[0m\n\u001b[1;32m    318\u001b[0m \u001b[38;5;28;01mtry\u001b[39;00m:    \u001b[38;5;66;03m# restore state no matter what (e.g., KeyboardInterrupt)\u001b[39;00m\n\u001b[1;32m    319\u001b[0m     \u001b[38;5;28;01mif\u001b[39;00m timeout \u001b[38;5;129;01mis\u001b[39;00m \u001b[38;5;28;01mNone\u001b[39;00m:\n\u001b[0;32m--> 320\u001b[0m         \u001b[43mwaiter\u001b[49m\u001b[38;5;241;43m.\u001b[39;49m\u001b[43macquire\u001b[49m\u001b[43m(\u001b[49m\u001b[43m)\u001b[49m\n\u001b[1;32m    321\u001b[0m         gotit \u001b[38;5;241m=\u001b[39m \u001b[38;5;28;01mTrue\u001b[39;00m\n\u001b[1;32m    322\u001b[0m     \u001b[38;5;28;01melse\u001b[39;00m:\n",
      "\u001b[0;31mKeyboardInterrupt\u001b[0m: "
     ]
    }
   ],
   "source": [
    "algo.evaluate()"
   ]
  },
  {
   "cell_type": "code",
   "execution_count": null,
   "metadata": {},
   "outputs": [],
   "source": [
    "simulator.stop()"
   ]
  },
  {
   "cell_type": "code",
   "execution_count": null,
   "metadata": {},
   "outputs": [],
   "source": []
  }
 ],
 "metadata": {
  "kernelspec": {
   "display_name": ".venv",
   "language": "python",
   "name": "python3"
  },
  "language_info": {
   "codemirror_mode": {
    "name": "ipython",
    "version": 3
   },
   "file_extension": ".py",
   "mimetype": "text/x-python",
   "name": "python",
   "nbconvert_exporter": "python",
   "pygments_lexer": "ipython3",
   "version": "3.11.2"
  }
 },
 "nbformat": 4,
 "nbformat_minor": 4
}
