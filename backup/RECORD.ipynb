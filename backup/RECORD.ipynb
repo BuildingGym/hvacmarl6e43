{
 "cells": [
  {
   "cell_type": "code",
   "execution_count": 1,
   "metadata": {},
   "outputs": [],
   "source": [
    "from controllables.energyplus import System\n",
    "\n",
    "sys = System(\n",
    "    building='model_with_photovoltaic.idf',\n",
    "    weather='SGP_Singapore_486980_IWEC.epw',\n",
    "    # TODO\n",
    "    report='tmp/',\n",
    "    repeat=True,\n",
    ")\n",
    "# sys.add('logging:progress').start()"
   ]
  },
  {
   "cell_type": "code",
   "execution_count": 2,
   "metadata": {},
   "outputs": [
    {
     "data": {
      "text/html": [
       "\n",
       "                    <details open>\n",
       "                        <summary>controllables.energyplus.variables.WallClock.Ref</summary>\n",
       "                        <figure><table id=\"itables_0d94d466_dd9f_45e4_9ee1_c0ab52f705c6\" class=\"display\" data-quarto-disable-processing=\"true\" style=\"table-layout:auto;width:auto;margin:auto;caption-side:bottom\">\n",
       "<thead>\n",
       "    <tr style=\"text-align: right;\">\n",
       "      \n",
       "      <th>calendar</th>\n",
       "    </tr>\n",
       "  </thead><tbody><tr>\n",
       "<td style=\"vertical-align:middle; text-align:left\">\n",
       "<div style=\"float:left; margin-right: 10px;\">\n",
       "<a href=https://mwouts.github.io/itables/><svg class=\"main-svg\" xmlns=\"http://www.w3.org/2000/svg\" xmlns:xlink=\"http://www.w3.org/1999/xlink\"\n",
       "width=\"64\" viewBox=\"0 0 500 400\" style=\"font-family: 'Droid Sans', sans-serif;\">\n",
       "    <g style=\"fill:#d9d7fc\">\n",
       "        <path d=\"M100,400H500V357H100Z\" />\n",
       "        <path d=\"M100,300H400V257H100Z\" />\n",
       "        <path d=\"M0,200H400V157H0Z\" />\n",
       "        <path d=\"M100,100H500V57H100Z\" />\n",
       "        <path d=\"M100,350H500V307H100Z\" />\n",
       "        <path d=\"M100,250H400V207H100Z\" />\n",
       "        <path d=\"M0,150H400V107H0Z\" />\n",
       "        <path d=\"M100,50H500V7H100Z\" />\n",
       "    </g>\n",
       "    <g style=\"fill:#1a1366;stroke:#1a1366;\">\n",
       "   <rect x=\"100\" y=\"7\" width=\"400\" height=\"43\">\n",
       "    <animate\n",
       "      attributeName=\"width\"\n",
       "      values=\"0;400;0\"\n",
       "      dur=\"5s\"\n",
       "      repeatCount=\"indefinite\" />\n",
       "      <animate\n",
       "      attributeName=\"x\"\n",
       "      values=\"100;100;500\"\n",
       "      dur=\"5s\"\n",
       "      repeatCount=\"indefinite\" />\n",
       "  </rect>\n",
       "        <rect x=\"0\" y=\"107\" width=\"400\" height=\"43\">\n",
       "    <animate\n",
       "      attributeName=\"width\"\n",
       "      values=\"0;400;0\"\n",
       "      dur=\"3.5s\"\n",
       "      repeatCount=\"indefinite\" />\n",
       "    <animate\n",
       "      attributeName=\"x\"\n",
       "      values=\"0;0;400\"\n",
       "      dur=\"3.5s\"\n",
       "      repeatCount=\"indefinite\" />\n",
       "  </rect>\n",
       "        <rect x=\"100\" y=\"207\" width=\"300\" height=\"43\">\n",
       "    <animate\n",
       "      attributeName=\"width\"\n",
       "      values=\"0;300;0\"\n",
       "      dur=\"3s\"\n",
       "      repeatCount=\"indefinite\" />\n",
       "    <animate\n",
       "      attributeName=\"x\"\n",
       "      values=\"100;100;400\"\n",
       "      dur=\"3s\"\n",
       "      repeatCount=\"indefinite\" />\n",
       "  </rect>\n",
       "        <rect x=\"100\" y=\"307\" width=\"400\" height=\"43\">\n",
       "    <animate\n",
       "      attributeName=\"width\"\n",
       "      values=\"0;400;0\"\n",
       "      dur=\"4s\"\n",
       "      repeatCount=\"indefinite\" />\n",
       "      <animate\n",
       "      attributeName=\"x\"\n",
       "      values=\"100;100;500\"\n",
       "      dur=\"4s\"\n",
       "      repeatCount=\"indefinite\" />\n",
       "  </rect>\n",
       "        <g style=\"fill:transparent;stroke-width:8; stroke-linejoin:round\" rx=\"5\">\n",
       "            <g transform=\"translate(45 50) rotate(-45)\">\n",
       "                <circle r=\"33\" cx=\"0\" cy=\"0\" />\n",
       "                <rect x=\"-8\" y=\"32\" width=\"16\" height=\"30\" />\n",
       "            </g>\n",
       "\n",
       "            <g transform=\"translate(450 152)\">\n",
       "                <polyline points=\"-15,-20 -35,-20 -35,40 25,40 25,20\" />\n",
       "                <rect x=\"-15\" y=\"-40\" width=\"60\" height=\"60\" />\n",
       "            </g>\n",
       "\n",
       "            <g transform=\"translate(50 352)\">\n",
       "                <polygon points=\"-35,-5 0,-40 35,-5\" />\n",
       "                <polygon points=\"-35,10 0,45 35,10\" />\n",
       "            </g>\n",
       "\n",
       "            <g transform=\"translate(75 250)\">\n",
       "                <polyline points=\"-30,30 -60,0 -30,-30\" />\n",
       "                <polyline points=\"0,30 -30,0 0,-30\" />\n",
       "            </g>\n",
       "\n",
       "            <g transform=\"translate(425 250) rotate(180)\">\n",
       "                <polyline points=\"-30,30 -60,0 -30,-30\" />\n",
       "                <polyline points=\"0,30 -30,0 0,-30\" />\n",
       "            </g>\n",
       "        </g>\n",
       "    </g>\n",
       "</svg>\n",
       "</a>\n",
       "</div>\n",
       "<div>\n",
       "Loading ITables v2.0.1 from the internet...\n",
       "(need <a href=https://mwouts.github.io/itables/troubleshooting.html>help</a>?)</td>\n",
       "</div>\n",
       "</tr></tbody>\n",
       "\n",
       "</table>\n",
       "<link href=\"https://www.unpkg.com/dt_for_itables@2.0.5/dt_bundle.css\" rel=\"stylesheet\">\n",
       "<script type=\"module\">\n",
       "    import {DataTable, jQuery as $} from 'https://www.unpkg.com/dt_for_itables@2.0.5/dt_bundle.js';\n",
       "\n",
       "    document.querySelectorAll(\"#itables_0d94d466_dd9f_45e4_9ee1_c0ab52f705c6:not(.dataTable)\").forEach(table => {\n",
       "        // Define the table data\n",
       "        const data = [[false]];\n",
       "\n",
       "        // Define the dt_args\n",
       "        let dt_args = {\"layout\": {\"topStart\": \"pageLength\", \"topEnd\": \"search\", \"bottomStart\": \"info\", \"bottomEnd\": \"paging\", \"bottom\": \"searchPanes\"}, \"searchPanes\": {\"initCollapsed\": true}, \"order\": [], \"warn_on_dom\": true};\n",
       "        dt_args[\"data\"] = data;\n",
       "\n",
       "        \n",
       "        new DataTable(table, dt_args);\n",
       "    });\n",
       "</script>\n",
       "</figure>\n",
       "                    </details>\n",
       "                    "
      ],
      "text/plain": [
       "<controllables.energyplus.variables.VariableManager.KeysView at 0x7f6760672850>"
      ]
     },
     "execution_count": 2,
     "metadata": {},
     "output_type": "execute_result"
    }
   ],
   "source": [
    "sys.variables.available_keys()"
   ]
  },
  {
   "cell_type": "code",
   "execution_count": 2,
   "metadata": {},
   "outputs": [
    {
     "name": "stderr",
     "output_type": "stream",
     "text": [
      "WARNING: All log messages before absl::InitializeLog() is called are written to STDERR\n",
      "E0000 00:00:1731129686.279742  513517 cuda_dnn.cc:8310] Unable to register cuDNN factory: Attempting to register factory for plugin cuDNN when one has already been registered\n",
      "E0000 00:00:1731129686.283173  513517 cuda_blas.cc:1418] Unable to register cuBLAS factory: Attempting to register factory for plugin cuBLAS when one has already been registered\n"
     ]
    },
    {
     "data": {
      "application/vnd.jupyter.widget-view+json": {
       "model_id": "975e6ae67138423d875ad4137af60238",
       "version_major": 2,
       "version_minor": 0
      },
      "text/plain": [
       "  0%|          | 0/100 [00:00<?, ?it/s]"
      ]
     },
     "metadata": {},
     "output_type": "display_data"
    }
   ],
   "source": [
    "from controllables.energyplus import Actuator, OutputVariable, OutputMeter\n",
    "from controllables.core.tools.records import VariableRecords\n",
    "from ray.rllib.algorithms.callbacks import DefaultCallbacks\n",
    "from controllables.core import BaseVariable\n",
    "from controllables.core.tools.records import VariableRecords\n",
    "import numpy as _numpy_\n",
    "import pythermalcomfort as pytc\n",
    "\n",
    "class PMVVariable(BaseVariable):\n",
    "    def __init__(\n",
    "        self, \n",
    "        tdb: BaseVariable,\n",
    "        tr: BaseVariable,\n",
    "        rh: BaseVariable,\n",
    "        metab_rate=1.5, clothing=.5, pmv_limit=.5,\n",
    "    ):\n",
    "        self.tdb = tdb\n",
    "        self.tr = tr\n",
    "        self.rh = rh\n",
    "        self._metab_rate = _numpy_.asarray(metab_rate)\n",
    "        self._clothing = _numpy_.asarray(clothing)\n",
    "        self._pmv_limit = _numpy_.asarray(pmv_limit)\n",
    "    \n",
    "    @property\n",
    "    def value(self):\n",
    "        res = pytc.models.pmv_ppd(\n",
    "            tdb=self.tdb.value, \n",
    "            tr=self.tr.value, \n",
    "            # calculate relative air speed\n",
    "            vr=pytc.utilities.v_relative(v=0.1, met=self._metab_rate), \n",
    "            rh=self.rh.value, \n",
    "            met=self._metab_rate, \n",
    "            # calculate dynamic clothing\n",
    "            clo=pytc.utilities.clo_dynamic(clo=self._clothing, met=self._metab_rate),\n",
    "            limit_inputs=False,\n",
    "        )['pmv']\n",
    "        return res\n",
    "sys.add('logging:progress').start()\n",
    "tdb = sys[OutputVariable.Ref('Zone Mean Air Temperature', '1FFIRSTFLOORWEST:OPENOFFICE')]\n",
    "tr = sys[OutputVariable.Ref('Zone Mean Radiant Temperature', '1FFIRSTFLOORWEST:OPENOFFICE')]\n",
    "rh = sys[OutputVariable.Ref('Zone Air Relative Humidity', '1FFIRSTFLOORWEST:OPENOFFICE')]\n",
    "\n",
    "records = VariableRecords({\n",
    "    '🕰️': sys['wallclock:calendar'],\n",
    "    'HVAC': \n",
    "        sys[OutputMeter.Ref('Electricity:HVAC')] ,\n",
    "    'SOLAR COLLECTOR 1':sys[OutputVariable.Ref('Generator Produced DC Electricity Energy', 'SOLAR COLLECTOR 1')],\n",
    "    'produce':sys[OutputMeter.Ref('Photovoltaic:ElectricityProduced')]/4,\n",
    "    'AHU COOLING COIL': sys[OutputVariable.Ref('Cooling Coil Total Cooling Rate', 'AIR LOOP AHU COOLING COIL')],\n",
    "    'occupancy':sys[OutputVariable.Ref('Schedule Value', 'Office_OpenOff_Occ')],\n",
    "    'pmv':PMVVariable(tdb=tdb, tr=tr, rh=rh)\n",
    "}).watch(sys.events['timestep'])"
   ]
  },
  {
   "cell_type": "code",
   "execution_count": null,
   "metadata": {},
   "outputs": [
    {
     "name": "stdout",
     "output_type": "stream",
     "text": [
      "2002-07-16 17:23:20+00:00\n"
     ]
    }
   ],
   "source": [
    "import pandas as pd\n",
    "import numpy as np\n",
    "sys['wallclock:calendar'].value\n",
    "curtime = sys['wallclock:calendar'].value\n",
    "curtime = pd.to_datetime(curtime)\n",
    "print(curtime)"
   ]
  },
  {
   "cell_type": "code",
   "execution_count": null,
   "metadata": {},
   "outputs": [],
   "source": [
    "records.dataframe().to_csv('tmp/records_baseline.csv', index=False)"
   ]
  },
  {
   "cell_type": "code",
   "execution_count": null,
   "metadata": {},
   "outputs": [
    {
     "data": {
      "application/vnd.jupyter.widget-view+json": {
       "model_id": "784c3a85e2e94b07a45ae6b14eb712bc",
       "version_major": 2,
       "version_minor": 0
      },
      "text/plain": [
       "<controllables.core.tools.plot.PlotlyBackend at 0x7f76dc188dd0>"
      ]
     },
     "execution_count": 23,
     "metadata": {},
     "output_type": "execute_result"
    }
   ],
   "source": [
    "records.plot.scatter(x='🕰️', y='pmv').watch(records.events['change'] % 1_000)"
   ]
  },
  {
   "cell_type": "code",
   "execution_count": null,
   "metadata": {},
   "outputs": [
    {
     "data": {
      "application/vnd.jupyter.widget-view+json": {
       "model_id": "b5d49f20d2c24e59ad114ddfcf725340",
       "version_major": 2,
       "version_minor": 0
      },
      "text/plain": [
       "<controllables.core.tools.plot.PlotlyBackend at 0x7f47fbfe0810>"
      ]
     },
     "execution_count": 9,
     "metadata": {},
     "output_type": "execute_result"
    }
   ],
   "source": [
    "records.plot.scatter(x='🕰️', y='AHU COOLING COIL').watch(records.events['change'] % 1_000)"
   ]
  },
  {
   "cell_type": "code",
   "execution_count": null,
   "metadata": {},
   "outputs": [
    {
     "data": {
      "application/vnd.jupyter.widget-view+json": {
       "model_id": "5a5163e090b24bdc87c7d832bc581c49",
       "version_major": 2,
       "version_minor": 0
      },
      "text/plain": [
       "<controllables.core.tools.plot.PlotlyBackend at 0x7f48585e65d0>"
      ]
     },
     "execution_count": 6,
     "metadata": {},
     "output_type": "execute_result"
    }
   ],
   "source": [
    "records.plot.scatter(x='🕰️', y='HVAC').watch(records.events['change'] % 1_000)"
   ]
  },
  {
   "cell_type": "code",
   "execution_count": null,
   "metadata": {},
   "outputs": [
    {
     "data": {
      "application/vnd.jupyter.widget-view+json": {
       "model_id": "96ffb489d9b14a14aa154fbcc1b53170",
       "version_major": 2,
       "version_minor": 0
      },
      "text/plain": [
       "<controllables.core.tools.plot.PlotlyBackend at 0x7f05a0350850>"
      ]
     },
     "execution_count": 3,
     "metadata": {},
     "output_type": "execute_result"
    }
   ],
   "source": [
    "records.plot.scatter(x='🕰️', y='SOLAR COLLECTOR 1').watch(records.events['change'] % 1_000)"
   ]
  },
  {
   "cell_type": "code",
   "execution_count": null,
   "metadata": {},
   "outputs": [
    {
     "data": {
      "application/vnd.jupyter.widget-view+json": {
       "model_id": "fd12a29e3eb24391a4af59abd33fec0d",
       "version_major": 2,
       "version_minor": 0
      },
      "text/plain": [
       "<controllables.core.tools.plot.PlotlyBackend at 0x7f73c9ad8f10>"
      ]
     },
     "execution_count": 3,
     "metadata": {},
     "output_type": "execute_result"
    }
   ],
   "source": [
    "records.plot.scatter(x='🕰️', y='produce').watch(records.events['change'] % 1_000)"
   ]
  },
  {
   "cell_type": "code",
   "execution_count": 7,
   "metadata": {},
   "outputs": [],
   "source": [
    "current_time = sys['wallclock:calendar'].value\n"
   ]
  },
  {
   "cell_type": "code",
   "execution_count": null,
   "metadata": {},
   "outputs": [
    {
     "data": {
      "text/plain": [
       "Timedelta('0 days 00:00:00')"
      ]
     },
     "execution_count": 11,
     "metadata": {},
     "output_type": "execute_result"
    }
   ],
   "source": [
    "(df_baseline['time'] - current_time).abs().min() = "
   ]
  },
  {
   "cell_type": "code",
   "execution_count": 41,
   "metadata": {},
   "outputs": [
    {
     "name": "stderr",
     "output_type": "stream",
     "text": [
      "/tmp/ipykernel_513517/3921852107.py:1: FutureWarning: Calling float on a single element Series is deprecated and will raise a TypeError in the future. Use float(ser.iloc[0]) instead\n",
      "  float(df_baseline[df_baseline['time'] == current_time]['elec'])\n"
     ]
    },
    {
     "data": {
      "text/plain": [
       "8720597.491576927"
      ]
     },
     "execution_count": 41,
     "metadata": {},
     "output_type": "execute_result"
    }
   ],
   "source": [
    "float(df_baseline[df_baseline['time'] == current_time]['elec'])\n"
   ]
  },
  {
   "cell_type": "code",
   "execution_count": null,
   "metadata": {},
   "outputs": [
    {
     "name": "stdout",
     "output_type": "stream",
     "text": [
      "0      2002-07-01 00:20:00+00:00\n",
      "1      2002-07-01 00:30:00+00:00\n",
      "2      2002-07-01 00:40:00+00:00\n",
      "3      2002-07-01 00:50:00+00:00\n",
      "4      2002-07-01 01:00:00+00:00\n",
      "                  ...           \n",
      "4603   2002-08-01 23:30:00+00:00\n",
      "4604   2002-08-01 23:40:00+00:00\n",
      "4605   2002-08-01 23:50:00+00:00\n",
      "4606   2002-08-02 00:00:00+00:00\n",
      "4607                         NaT\n",
      "Name: time, Length: 4608, dtype: datetime64[ns, UTC]\n"
     ]
    },
    {
     "ename": "TemporaryUnavailableError",
     "evalue": "WallClock(WallClock.Ref(calendar=True))",
     "output_type": "error",
     "traceback": [
      "\u001b[0;31m---------------------------------------------------------------------------\u001b[0m",
      "\u001b[0;31mValueError\u001b[0m                                Traceback (most recent call last)",
      "File \u001b[0;32m~/lab/reports/2024xxxx/.venv/lib/python3.11/site-packages/controllables/energyplus/variables.py:146\u001b[0m, in \u001b[0;36mWallClock.value\u001b[0;34m(self)\u001b[0m\n\u001b[1;32m    145\u001b[0m \u001b[38;5;28;01mtry\u001b[39;00m: \n\u001b[0;32m--> 146\u001b[0m     \u001b[38;5;28;01mreturn\u001b[39;00m \u001b[43m_datetime_\u001b[49m\u001b[38;5;241;43m.\u001b[39;49m\u001b[43mdatetime\u001b[49m\u001b[38;5;241;43m.\u001b[39;49m\u001b[43mmin\u001b[49m\u001b[38;5;241;43m.\u001b[39;49m\u001b[43mreplace\u001b[49m\u001b[43m(\u001b[49m\n\u001b[1;32m    147\u001b[0m \u001b[43m        \u001b[49m\u001b[43myear\u001b[49m\u001b[38;5;241;43m=\u001b[39;49m\u001b[43m(\u001b[49m\n\u001b[1;32m    148\u001b[0m \u001b[43m            \u001b[49m\u001b[43mexchange\u001b[49m\u001b[38;5;241;43m.\u001b[39;49m\u001b[43mcalendar_year\u001b[49m\u001b[43m(\u001b[49m\u001b[43mstate\u001b[49m\u001b[43m)\u001b[49m\u001b[43m \u001b[49m\n\u001b[1;32m    149\u001b[0m \u001b[43m            \u001b[49m\u001b[38;5;28;43;01mif\u001b[39;49;00m\u001b[43m \u001b[49m\u001b[38;5;28;43mself\u001b[39;49m\u001b[38;5;241;43m.\u001b[39;49m\u001b[43mref\u001b[49m\u001b[38;5;241;43m.\u001b[39;49m\u001b[43mcalendar\u001b[49m\u001b[43m \u001b[49m\u001b[38;5;28;43;01melse\u001b[39;49;00m\u001b[43m \u001b[49m\n\u001b[1;32m    150\u001b[0m \u001b[43m            \u001b[49m\u001b[43mexchange\u001b[49m\u001b[38;5;241;43m.\u001b[39;49m\u001b[43myear\u001b[49m\u001b[43m(\u001b[49m\u001b[43mstate\u001b[49m\u001b[43m)\u001b[49m\n\u001b[1;32m    151\u001b[0m \u001b[43m        \u001b[49m\u001b[43m)\u001b[49m\u001b[43m,\u001b[49m\n\u001b[1;32m    152\u001b[0m \u001b[43m        \u001b[49m\u001b[43mtzinfo\u001b[49m\u001b[38;5;241;43m=\u001b[39;49m\u001b[43m_datetime_\u001b[49m\u001b[38;5;241;43m.\u001b[39;49m\u001b[43mtimezone\u001b[49m\u001b[43m(\u001b[49m\u001b[43moffset\u001b[49m\u001b[38;5;241;43m=\u001b[39;49m\u001b[43m_datetime_\u001b[49m\u001b[38;5;241;43m.\u001b[39;49m\u001b[43mtimedelta\u001b[49m\u001b[43m(\u001b[49m\u001b[38;5;241;43m0\u001b[39;49m\u001b[43m)\u001b[49m\u001b[43m)\u001b[49m\u001b[43m,\u001b[49m\n\u001b[1;32m    153\u001b[0m \u001b[43m    \u001b[49m\u001b[43m)\u001b[49m \u001b[38;5;241m+\u001b[39m _datetime_\u001b[38;5;241m.\u001b[39mtimedelta(\n\u001b[1;32m    154\u001b[0m         days\u001b[38;5;241m=\u001b[39mexchange\u001b[38;5;241m.\u001b[39mday_of_year(state) \u001b[38;5;241m-\u001b[39m \u001b[38;5;241m1\u001b[39m,\n\u001b[1;32m    155\u001b[0m         hours\u001b[38;5;241m=\u001b[39mexchange\u001b[38;5;241m.\u001b[39mcurrent_time(state),\n\u001b[1;32m    156\u001b[0m     )\n\u001b[1;32m    157\u001b[0m \u001b[38;5;28;01mexcept\u001b[39;00m \u001b[38;5;167;01mValueError\u001b[39;00m \u001b[38;5;28;01mas\u001b[39;00m e:\n",
      "\u001b[0;31mValueError\u001b[0m: year 0 is out of range",
      "\nThe above exception was the direct cause of the following exception:\n",
      "\u001b[0;31mTemporaryUnavailableError\u001b[0m                 Traceback (most recent call last)",
      "Cell \u001b[0;32mIn[5], line 10\u001b[0m\n\u001b[1;32m      6\u001b[0m     df_baseline[\u001b[38;5;124m'\u001b[39m\u001b[38;5;124mtime\u001b[39m\u001b[38;5;124m'\u001b[39m] \u001b[38;5;241m=\u001b[39m pd\u001b[38;5;241m.\u001b[39mto_datetime(df_baseline[\u001b[38;5;124m'\u001b[39m\u001b[38;5;124mtime\u001b[39m\u001b[38;5;124m'\u001b[39m])\n\u001b[1;32m      8\u001b[0m \u001b[38;5;28mprint\u001b[39m(df_baseline[\u001b[38;5;124m'\u001b[39m\u001b[38;5;124mtime\u001b[39m\u001b[38;5;124m'\u001b[39m])\n\u001b[0;32m---> 10\u001b[0m current_time \u001b[38;5;241m=\u001b[39m \u001b[43msys\u001b[49m\u001b[43m[\u001b[49m\u001b[38;5;124;43m'\u001b[39;49m\u001b[38;5;124;43mwallclock:calendar\u001b[39;49m\u001b[38;5;124;43m'\u001b[39;49m\u001b[43m]\u001b[49m\u001b[38;5;241;43m.\u001b[39;49m\u001b[43mvalue\u001b[49m\n\u001b[1;32m     11\u001b[0m current_time \u001b[38;5;241m=\u001b[39m pd\u001b[38;5;241m.\u001b[39mto_datetime(current_time)\n\u001b[1;32m     13\u001b[0m \u001b[38;5;66;03m# print(current_time)\u001b[39;00m\n",
      "File \u001b[0;32m~/lab/reports/2024xxxx/.venv/lib/python3.11/site-packages/controllables/energyplus/variables.py:158\u001b[0m, in \u001b[0;36mWallClock.value\u001b[0;34m(self)\u001b[0m\n\u001b[1;32m    146\u001b[0m     \u001b[38;5;28;01mreturn\u001b[39;00m _datetime_\u001b[38;5;241m.\u001b[39mdatetime\u001b[38;5;241m.\u001b[39mmin\u001b[38;5;241m.\u001b[39mreplace(\n\u001b[1;32m    147\u001b[0m         year\u001b[38;5;241m=\u001b[39m(\n\u001b[1;32m    148\u001b[0m             exchange\u001b[38;5;241m.\u001b[39mcalendar_year(state) \n\u001b[0;32m   (...)\u001b[0m\n\u001b[1;32m    155\u001b[0m         hours\u001b[38;5;241m=\u001b[39mexchange\u001b[38;5;241m.\u001b[39mcurrent_time(state),\n\u001b[1;32m    156\u001b[0m     )\n\u001b[1;32m    157\u001b[0m \u001b[38;5;28;01mexcept\u001b[39;00m \u001b[38;5;167;01mValueError\u001b[39;00m \u001b[38;5;28;01mas\u001b[39;00m e:\n\u001b[0;32m--> 158\u001b[0m     \u001b[38;5;28;01mraise\u001b[39;00m TemporaryUnavailableError(\u001b[38;5;124mf\u001b[39m\u001b[38;5;124m'\u001b[39m\u001b[38;5;132;01m{\u001b[39;00m\u001b[38;5;28mself\u001b[39m\u001b[38;5;132;01m!r}\u001b[39;00m\u001b[38;5;124m'\u001b[39m) \u001b[38;5;28;01mfrom\u001b[39;00m \u001b[38;5;21;01me\u001b[39;00m\n",
      "\u001b[0;31mTemporaryUnavailableError\u001b[0m: WallClock(WallClock.Ref(calendar=True))"
     ]
    }
   ],
   "source": [
    "import pandas as pd\n",
    "import numpy as np\n",
    "df_baseline = pd.read_csv(\"datasave/records_-1FWEST.csv\")\n",
    "\n",
    "if not np.issubdtype(df_baseline['time'].dtype, np.datetime64):\n",
    "    df_baseline['time'] = pd.to_datetime(df_baseline['time'])\n",
    "\n",
    "print(df_baseline['time'])\n",
    "\n",
    "current_time = sys['wallclock:calendar'].value\n",
    "\n",
    "# print(current_time)\n",
    "if current_time in df_baseline['time']:\n",
    "    print(\"found\")\n",
    "    print(df_baseline.loc[current_time])\n",
    "    \n",
    "\n"
   ]
  },
  {
   "cell_type": "code",
   "execution_count": 20,
   "metadata": {},
   "outputs": [],
   "source": [
    "s = pd.Series(range(-3, 4))"
   ]
  },
  {
   "cell_type": "code",
   "execution_count": 37,
   "metadata": {},
   "outputs": [
    {
     "data": {
      "text/plain": [
       "4    1\n",
       "5    2\n",
       "6    3\n",
       "dtype: int64"
      ]
     },
     "execution_count": 37,
     "metadata": {},
     "output_type": "execute_result"
    }
   ],
   "source": [
    "s[s > 0 ]\n"
   ]
  },
  {
   "cell_type": "code",
   "execution_count": 24,
   "metadata": {},
   "outputs": [
    {
     "data": {
      "text/plain": [
       "0   -3\n",
       "1   -2\n",
       "2   -1\n",
       "3    0\n",
       "4    1\n",
       "5    2\n",
       "6    3\n",
       "dtype: int64"
      ]
     },
     "execution_count": 24,
     "metadata": {},
     "output_type": "execute_result"
    }
   ],
   "source": [
    "s"
   ]
  },
  {
   "cell_type": "code",
   "execution_count": 28,
   "metadata": {},
   "outputs": [
    {
     "data": {
      "text/plain": [
       "array([-9, -8, -7])"
      ]
     },
     "execution_count": 28,
     "metadata": {},
     "output_type": "execute_result"
    }
   ],
   "source": [
    "np.array([1, 2, 3]) - 10"
   ]
  },
  {
   "cell_type": "code",
   "execution_count": 34,
   "metadata": {},
   "outputs": [
    {
     "ename": "ValueError",
     "evalue": "The truth value of an array with more than one element is ambiguous. Use a.any() or a.all()",
     "output_type": "error",
     "traceback": [
      "\u001b[0;31m---------------------------------------------------------------------------\u001b[0m",
      "\u001b[0;31mValueError\u001b[0m                                Traceback (most recent call last)",
      "Cell \u001b[0;32mIn[34], line 1\u001b[0m\n\u001b[0;32m----> 1\u001b[0m \u001b[38;5;28;43mbool\u001b[39;49m\u001b[43m(\u001b[49m\u001b[43mnp\u001b[49m\u001b[38;5;241;43m.\u001b[39;49m\u001b[43marray\u001b[49m\u001b[43m(\u001b[49m\u001b[43m[\u001b[49m\u001b[38;5;28;43;01mTrue\u001b[39;49;00m\u001b[43m,\u001b[49m\u001b[43m \u001b[49m\u001b[38;5;28;43;01mFalse\u001b[39;49;00m\u001b[43m,\u001b[49m\u001b[43m \u001b[49m\u001b[38;5;28;43;01mTrue\u001b[39;49;00m\u001b[43m]\u001b[49m\u001b[43m)\u001b[49m\u001b[43m)\u001b[49m\n",
      "\u001b[0;31mValueError\u001b[0m: The truth value of an array with more than one element is ambiguous. Use a.any() or a.all()"
     ]
    }
   ],
   "source": [
    "bool(np.array([True, False, True]))"
   ]
  }
 ],
 "metadata": {
  "kernelspec": {
   "display_name": ".venv",
   "language": "python",
   "name": "python3"
  },
  "language_info": {
   "codemirror_mode": {
    "name": "ipython",
    "version": 3
   },
   "file_extension": ".py",
   "mimetype": "text/x-python",
   "name": "python",
   "nbconvert_exporter": "python",
   "pygments_lexer": "ipython3",
   "version": "3.11.2"
  }
 },
 "nbformat": 4,
 "nbformat_minor": 2
}
