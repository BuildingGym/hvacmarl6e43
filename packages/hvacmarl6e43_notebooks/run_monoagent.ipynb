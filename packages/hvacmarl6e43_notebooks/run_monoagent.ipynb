{
 "cells": [
  {
   "cell_type": "code",
   "execution_count": 1,
   "metadata": {},
   "outputs": [
    {
     "name": "stderr",
     "output_type": "stream",
     "text": [
      "/home/AD/user/lab/hvacmarl6e43/.venv/lib/python3.11/site-packages/tqdm/auto.py:21: TqdmWarning: IProgress not found. Please update jupyter and ipywidgets. See https://ipywidgets.readthedocs.io/en/stable/user_install.html\n",
      "  from .autonotebook import tqdm as notebook_tqdm\n",
      "2025-01-22 15:32:40,270\tINFO util.py:154 -- Missing packages: ['ipywidgets']. Run `pip install -U ipywidgets`, then restart the notebook server for rich notebook output.\n",
      "2025-01-22 15:32:40,368\tINFO util.py:154 -- Missing packages: ['ipywidgets']. Run `pip install -U ipywidgets`, then restart the notebook server for rich notebook output.\n"
     ]
    }
   ],
   "source": [
    "from hvacmarl6e43.experiments import rl_experiments"
   ]
  },
  {
   "cell_type": "code",
   "execution_count": null,
   "metadata": {},
   "outputs": [
    {
     "name": "stderr",
     "output_type": "stream",
     "text": [
      "2025-01-22 15:32:44,634\tWARNING deprecation.py:50 -- DeprecationWarning: `rollouts` has been deprecated. Use `AlgorithmConfig.env_runners(..)` instead. This will raise an error in the future!\n",
      " /home/AD/user/lab/hvacmarl6e43/.venv/lib/python3.11/site-packages/ray/_private/node.py:1362: ResourceWarning:unclosed file <_io.TextIOWrapper name='/tmp/ray/session_2025-01-22_15-32-44_656741_40127/logs/gcs_server.out' mode='a' encoding='utf-8'>\n",
      " /home/AD/user/lab/hvacmarl6e43/.venv/lib/python3.11/site-packages/ray/_private/node.py:1362: ResourceWarning:unclosed file <_io.TextIOWrapper name='/tmp/ray/session_2025-01-22_15-32-44_656741_40127/logs/gcs_server.err' mode='a' encoding='utf-8'>\n",
      " /home/AD/user/lab/hvacmarl6e43/.venv/lib/python3.11/site-packages/ray/_private/node.py:1367: ResourceWarning:unclosed file <_io.TextIOWrapper name='/tmp/ray/session_2025-01-22_15-32-44_656741_40127/logs/monitor.out' mode='a' encoding='utf-8'>\n",
      " /home/AD/user/lab/hvacmarl6e43/.venv/lib/python3.11/site-packages/ray/_private/node.py:1367: ResourceWarning:unclosed file <_io.TextIOWrapper name='/tmp/ray/session_2025-01-22_15-32-44_656741_40127/logs/monitor.err' mode='a' encoding='utf-8'>\n"
     ]
    },
    {
     "name": "stderr",
     "output_type": "stream",
     "text": [
      " /home/AD/user/lab/hvacmarl6e43/.venv/lib/python3.11/site-packages/ray/_private/node.py:1378: ResourceWarning:unclosed file <_io.TextIOWrapper name='/tmp/ray/session_2025-01-22_15-32-44_656741_40127/logs/dashboard.err' mode='a' encoding='utf-8'>\n",
      " /home/AD/user/lab/hvacmarl6e43/.venv/lib/python3.11/site-packages/ray/_private/node.py:1420: ResourceWarning:unclosed file <_io.TextIOWrapper name='/tmp/ray/session_2025-01-22_15-32-44_656741_40127/logs/raylet.out' mode='a' encoding='utf-8'>\n",
      " /home/AD/user/lab/hvacmarl6e43/.venv/lib/python3.11/site-packages/ray/_private/node.py:1420: ResourceWarning:unclosed file <_io.TextIOWrapper name='/tmp/ray/session_2025-01-22_15-32-44_656741_40127/logs/raylet.err' mode='a' encoding='utf-8'>\n",
      " /home/AD/user/lab/hvacmarl6e43/.venv/lib/python3.11/site-packages/ray/_private/node.py:1422: ResourceWarning:unclosed file <_io.TextIOWrapper name='/tmp/ray/session_2025-01-22_15-32-44_656741_40127/logs/log_monitor.err' mode='a' encoding='utf-8'>\n",
      "2025-01-22 15:32:45,224\tINFO worker.py:1816 -- Started a local Ray instance.\n",
      "2025-01-22 15:32:45,843\tINFO tune.py:253 -- Initializing Ray automatically. For cluster usage or custom Ray initialization, call `ray.init(...)` before `Tuner(...)`.\n",
      "2025-01-22 15:32:45,845\tINFO tune.py:616 -- [output] This uses the legacy output and progress reporter, as Jupyter notebooks are not supported by the new engine, yet. For more information, please see https://github.com/ray-project/ray/issues/36949\n",
      " /home/AD/user/lab/hvacmarl6e43/.venv/lib/python3.11/site-packages/ray/tune/tune.py:730: UserWarning:Consider boosting PBT performance by enabling `reuse_actors` as well as implementing `reset_config` for Trainable.\n"
     ]
    },
    {
     "data": {
      "text/html": [
       "<div class=\"tuneStatus\">\n",
       "  <div style=\"display: flex;flex-direction: row\">\n",
       "    <div style=\"display: flex;flex-direction: column;\">\n",
       "      <h3>Tune Status</h3>\n",
       "      <table>\n",
       "<tbody>\n",
       "<tr><td>Current time:</td><td>2025-01-22 15:35:51</td></tr>\n",
       "<tr><td>Running for: </td><td>00:03:05.83        </td></tr>\n",
       "<tr><td>Memory:      </td><td>43.9/62.8 GiB      </td></tr>\n",
       "</tbody>\n",
       "</table>\n",
       "    </div>\n",
       "    <div class=\"vDivider\"></div>\n",
       "    <div class=\"systemInfo\">\n",
       "      <h3>System Info</h3>\n",
       "      PopulationBasedTraining: 0 checkpoints, 0 perturbs<br>Logical resource usage: 12.0/24 CPUs, 1.0/1 GPUs (0.0/1.0 accelerator_type:G)\n",
       "    </div>\n",
       "    \n",
       "  </div>\n",
       "  <div class=\"hDivider\"></div>\n",
       "  <div class=\"trialStatus\">\n",
       "    <h3>Trial Status</h3>\n",
       "    <table>\n",
       "<thead>\n",
       "<tr><th>Trial name                          </th><th>status  </th><th>loc                  </th></tr>\n",
       "</thead>\n",
       "<tbody>\n",
       "<tr><td>PPO_MonoAgentBuildingEnv_20e85_00000</td><td>RUNNING </td><td>192.168.200.249:41807</td></tr>\n",
       "<tr><td>PPO_MonoAgentBuildingEnv_20e85_00001</td><td>RUNNING </td><td>192.168.200.249:41805</td></tr>\n",
       "<tr><td>PPO_MonoAgentBuildingEnv_20e85_00002</td><td>RUNNING </td><td>192.168.200.249:41806</td></tr>\n",
       "<tr><td>PPO_MonoAgentBuildingEnv_20e85_00003</td><td>RUNNING </td><td>192.168.200.249:41808</td></tr>\n",
       "</tbody>\n",
       "</table>\n",
       "  </div>\n",
       "</div>\n",
       "<style>\n",
       ".tuneStatus {\n",
       "  color: var(--jp-ui-font-color1);\n",
       "}\n",
       ".tuneStatus .systemInfo {\n",
       "  display: flex;\n",
       "  flex-direction: column;\n",
       "}\n",
       ".tuneStatus td {\n",
       "  white-space: nowrap;\n",
       "}\n",
       ".tuneStatus .trialStatus {\n",
       "  display: flex;\n",
       "  flex-direction: column;\n",
       "}\n",
       ".tuneStatus h3 {\n",
       "  font-weight: bold;\n",
       "}\n",
       ".tuneStatus .hDivider {\n",
       "  border-bottom-width: var(--jp-border-width);\n",
       "  border-bottom-color: var(--jp-border-color0);\n",
       "  border-bottom-style: solid;\n",
       "}\n",
       ".tuneStatus .vDivider {\n",
       "  border-left-width: var(--jp-border-width);\n",
       "  border-left-color: var(--jp-border-color0);\n",
       "  border-left-style: solid;\n",
       "  margin: 0.5em 1em 0.5em 1em;\n",
       "}\n",
       "</style>\n"
      ],
      "text/plain": [
       "<IPython.core.display.HTML object>"
      ]
     },
     "metadata": {},
     "output_type": "display_data"
    },
    {
     "name": "stderr",
     "output_type": "stream",
     "text": [
      "\u001b[36m(RolloutWorker pid=42132)\u001b[0m  /usr/lib/python3.11/tempfile.py:1043: ResourceWarning:Implicitly cleaning up <TemporaryDirectory '/tmp/.energyplus_output_23h440po'>\n",
      "\u001b[36m(RolloutWorker pid=42132)\u001b[0m  /usr/lib/python3.11/tempfile.py:1043: ResourceWarning:Implicitly cleaning up <TemporaryDirectory '/tmp/.energyplus_output_gmn9opm7'>\n",
      "\u001b[36m(RolloutWorker pid=42139)\u001b[0m  /usr/lib/python3.11/tempfile.py:1043: ResourceWarning:Implicitly cleaning up <TemporaryDirectory '/tmp/.energyplus_output_neiqvyuq'>\n",
      "\u001b[36m(PPO pid=41805)\u001b[0m Install gputil for GPU system monitoring.\n"
     ]
    },
    {
     "data": {
      "text/html": [
       "<div class=\"trialProgress\">\n",
       "  <h3>Trial Progress</h3>\n",
       "  <table>\n",
       "<thead>\n",
       "<tr><th>Trial name                          </th><th style=\"text-align: right;\">  agent_timesteps_total</th><th>counters                                                                                                                        </th><th>custom_metrics  </th><th>env_runners                                                                                                                                                                                                                                                                                                                                                                                                                                                                                                                                                                                                                                                                                                                                                                                                                                                                                                                                                                                                                                                                                                                                                                                                </th><th>episode_media  </th><th>info                                                                                                                                                                                                                                                                                                                                                                                                                                                                                                                                                                                                                 </th><th style=\"text-align: right;\">  num_agent_steps_sampled</th><th style=\"text-align: right;\">  num_agent_steps_sampled_lifetime</th><th style=\"text-align: right;\">  num_agent_steps_trained</th><th style=\"text-align: right;\">  num_env_steps_sampled</th><th style=\"text-align: right;\">  num_env_steps_sampled_lifetime</th><th style=\"text-align: right;\">  num_env_steps_sampled_this_iter</th><th style=\"text-align: right;\">  num_env_steps_sampled_throughput_per_sec</th><th style=\"text-align: right;\">  num_env_steps_trained</th><th style=\"text-align: right;\">  num_env_steps_trained_this_iter</th><th style=\"text-align: right;\">  num_env_steps_trained_throughput_per_sec</th><th style=\"text-align: right;\">  num_healthy_workers</th><th style=\"text-align: right;\">  num_in_flight_async_sample_reqs</th><th style=\"text-align: right;\">  num_remote_worker_restarts</th><th style=\"text-align: right;\">  num_steps_trained_this_iter</th><th>perf                                                                           </th><th>timers                                                                                                                                                                                                                                                                                        </th></tr>\n",
       "</thead>\n",
       "<tbody>\n",
       "<tr><td>PPO_MonoAgentBuildingEnv_20e85_00000</td><td style=\"text-align: right;\">                   9216</td><td>{&#x27;num_env_steps_sampled&#x27;: 9216, &#x27;num_env_steps_trained&#x27;: 9216, &#x27;num_agent_steps_sampled&#x27;: 9216, &#x27;num_agent_steps_trained&#x27;: 9216}</td><td>{}              </td><td>{&#x27;episode_reward_max&#x27;: 0.3735006744490722, &#x27;episode_reward_min&#x27;: -0.7335057669016871, &#x27;episode_reward_mean&#x27;: -0.16042245547943643, &#x27;episode_len_mean&#x27;: 4608.0, &#x27;episode_media&#x27;: {}, &#x27;episodes_timesteps_total&#x27;: 18432, &#x27;policy_reward_min&#x27;: {&#x27;default_policy&#x27;: -0.7335057669016871}, &#x27;policy_reward_max&#x27;: {&#x27;default_policy&#x27;: 0.3735006744490722}, &#x27;policy_reward_mean&#x27;: {&#x27;default_policy&#x27;: -0.16042245547943643}, &#x27;custom_metrics&#x27;: {}, &#x27;hist_stats&#x27;: {&#x27;episode_reward&#x27;: [-0.5811701973236826, -0.7335057669016871, 0.2994854678585518, 0.3735006744490722], &#x27;episode_lengths&#x27;: [4608, 4608, 4608, 4608], &#x27;policy_default_policy_reward&#x27;: [-0.5811701973236826, -0.7335057669016871, 0.2994854678585518, 0.3735006744490722]}, &#x27;sampler_perf&#x27;: {&#x27;mean_raw_obs_processing_ms&#x27;: 0.3065562062005879, &#x27;mean_inference_ms&#x27;: 2.262432369862029, &#x27;mean_action_processing_ms&#x27;: 0.3394124616017489, &#x27;mean_env_wait_ms&#x27;: 36.07234349088364, &#x27;mean_env_render_ms&#x27;: 0.0}, &#x27;num_faulty_episodes&#x27;: 0, &#x27;connector_metrics&#x27;: {}, &#x27;num_episodes&#x27;: 2, &#x27;episode_return_max&#x27;: 0.3735006744490722, &#x27;episode_return_min&#x27;: -0.7335057669016871, &#x27;episode_return_mean&#x27;: -0.16042245547943643, &#x27;episodes_this_iter&#x27;: 2}             </td><td>{}             </td><td>{&#x27;learner&#x27;: {&#x27;default_policy&#x27;: {&#x27;custom_metrics&#x27;: {}, &#x27;learner_stats&#x27;: {&#x27;cur_kl_coeff&#x27;: 0.19999999999999998, &#x27;cur_lr&#x27;: 5.000000000000001e-05, &#x27;total_loss&#x27;: 0.8178083190233102, &#x27;policy_loss&#x27;: -0.008373802469146473, &#x27;vf_loss&#x27;: 0.8242322145961225, &#x27;vf_explained_var&#x27;: 0.04931221140755548, &#x27;kl&#x27;: 0.009749538475820285, &#x27;entropy&#x27;: 11.362156169502823, &#x27;entropy_coeff&#x27;: 0.0}, &#x27;model&#x27;: {}, &#x27;num_grad_updates_lifetime&#x27;: 1620.5, &#x27;diff_num_grad_updates_vs_sampler_policy&#x27;: 539.5}}, &#x27;num_env_steps_sampled&#x27;: 9216, &#x27;num_env_steps_trained&#x27;: 9216, &#x27;num_agent_steps_sampled&#x27;: 9216, &#x27;num_agent_steps_trained&#x27;: 9216}</td><td style=\"text-align: right;\">                     9216</td><td style=\"text-align: right;\">                              9216</td><td style=\"text-align: right;\">                     9216</td><td style=\"text-align: right;\">                   9216</td><td style=\"text-align: right;\">                            9216</td><td style=\"text-align: right;\">                             4608</td><td style=\"text-align: right;\">                                   23.7002</td><td style=\"text-align: right;\">                   9216</td><td style=\"text-align: right;\">                             4608</td><td style=\"text-align: right;\">                                   23.7002</td><td style=\"text-align: right;\">                    2</td><td style=\"text-align: right;\">                                0</td><td style=\"text-align: right;\">                           0</td><td style=\"text-align: right;\">                         4608</td><td>{&#x27;cpu_util_percent&#x27;: 34.288129496402874, &#x27;ram_util_percent&#x27;: 66.2593525179856} </td><td>{&#x27;training_iteration_time_ms&#x27;: 197895.458, &#x27;restore_workers_time_ms&#x27;: 0.014, &#x27;training_step_time_ms&#x27;: 197895.42, &#x27;sample_time_ms&#x27;: 180107.061, &#x27;load_time_ms&#x27;: 7.31, &#x27;load_throughput&#x27;: 630376.805, &#x27;learn_time_ms&#x27;: 17777.116, &#x27;learn_throughput&#x27;: 259.21, &#x27;synch_weights_time_ms&#x27;: 3.474}   </td></tr>\n",
       "<tr><td>PPO_MonoAgentBuildingEnv_20e85_00001</td><td style=\"text-align: right;\">                   9216</td><td>{&#x27;num_env_steps_sampled&#x27;: 9216, &#x27;num_env_steps_trained&#x27;: 9216, &#x27;num_agent_steps_sampled&#x27;: 9216, &#x27;num_agent_steps_trained&#x27;: 9216}</td><td>{}              </td><td>{&#x27;episode_reward_max&#x27;: 0.25277079017852583, &#x27;episode_reward_min&#x27;: -0.445012214828333, &#x27;episode_reward_mean&#x27;: -0.21341354659153833, &#x27;episode_len_mean&#x27;: 4608.0, &#x27;episode_media&#x27;: {}, &#x27;episodes_timesteps_total&#x27;: 18432, &#x27;policy_reward_min&#x27;: {&#x27;default_policy&#x27;: -0.445012214828333}, &#x27;policy_reward_max&#x27;: {&#x27;default_policy&#x27;: 0.25277079017852583}, &#x27;policy_reward_mean&#x27;: {&#x27;default_policy&#x27;: -0.21341354659153833}, &#x27;custom_metrics&#x27;: {}, &#x27;hist_stats&#x27;: {&#x27;episode_reward&#x27;: [-0.39626627626724925, -0.445012214828333, -0.26514648544909697, 0.25277079017852583], &#x27;episode_lengths&#x27;: [4608, 4608, 4608, 4608], &#x27;policy_default_policy_reward&#x27;: [-0.39626627626724925, -0.445012214828333, -0.26514648544909697, 0.25277079017852583]}, &#x27;sampler_perf&#x27;: {&#x27;mean_raw_obs_processing_ms&#x27;: 0.3017505122048396, &#x27;mean_inference_ms&#x27;: 2.2576761804399843, &#x27;mean_action_processing_ms&#x27;: 0.33872232025371607, &#x27;mean_env_wait_ms&#x27;: 37.59115264482472, &#x27;mean_env_render_ms&#x27;: 0.0}, &#x27;num_faulty_episodes&#x27;: 0, &#x27;connector_metrics&#x27;: {}, &#x27;num_episodes&#x27;: 2, &#x27;episode_return_max&#x27;: 0.25277079017852583, &#x27;episode_return_min&#x27;: -0.445012214828333, &#x27;episode_return_mean&#x27;: -0.21341354659153833, &#x27;episodes_this_iter&#x27;: 2}     </td><td>{}             </td><td>{&#x27;learner&#x27;: {&#x27;default_policy&#x27;: {&#x27;custom_metrics&#x27;: {}, &#x27;learner_stats&#x27;: {&#x27;cur_kl_coeff&#x27;: 0.19999999999999998, &#x27;cur_lr&#x27;: 5.000000000000001e-05, &#x27;total_loss&#x27;: 0.8282027454908799, &#x27;policy_loss&#x27;: -0.013781237190037415, &#x27;vf_loss&#x27;: 0.8397593705225046, &#x27;vf_explained_var&#x27;: 0.09583335811341251, &#x27;kl&#x27;: 0.011123056565205583, &#x27;entropy&#x27;: 11.39473142888811, &#x27;entropy_coeff&#x27;: 0.0}, &#x27;model&#x27;: {}, &#x27;num_grad_updates_lifetime&#x27;: 1620.5, &#x27;diff_num_grad_updates_vs_sampler_policy&#x27;: 539.5}}, &#x27;num_env_steps_sampled&#x27;: 9216, &#x27;num_env_steps_trained&#x27;: 9216, &#x27;num_agent_steps_sampled&#x27;: 9216, &#x27;num_agent_steps_trained&#x27;: 9216} </td><td style=\"text-align: right;\">                     9216</td><td style=\"text-align: right;\">                              9216</td><td style=\"text-align: right;\">                     9216</td><td style=\"text-align: right;\">                   9216</td><td style=\"text-align: right;\">                            9216</td><td style=\"text-align: right;\">                             4608</td><td style=\"text-align: right;\">                                   22.5148</td><td style=\"text-align: right;\">                   9216</td><td style=\"text-align: right;\">                             4608</td><td style=\"text-align: right;\">                                   22.5148</td><td style=\"text-align: right;\">                    2</td><td style=\"text-align: right;\">                                0</td><td style=\"text-align: right;\">                           0</td><td style=\"text-align: right;\">                         4608</td><td>{&#x27;cpu_util_percent&#x27;: 33.82910958904109, &#x27;ram_util_percent&#x27;: 66.24486301369863} </td><td>{&#x27;training_iteration_time_ms&#x27;: 207776.266, &#x27;restore_workers_time_ms&#x27;: 0.015, &#x27;training_step_time_ms&#x27;: 207776.224, &#x27;sample_time_ms&#x27;: 189211.484, &#x27;load_time_ms&#x27;: 4.707, &#x27;load_throughput&#x27;: 978971.905, &#x27;learn_time_ms&#x27;: 18555.741, &#x27;learn_throughput&#x27;: 248.333, &#x27;synch_weights_time_ms&#x27;: 3.817}</td></tr>\n",
       "<tr><td>PPO_MonoAgentBuildingEnv_20e85_00002</td><td style=\"text-align: right;\">                   9216</td><td>{&#x27;num_env_steps_sampled&#x27;: 9216, &#x27;num_env_steps_trained&#x27;: 9216, &#x27;num_agent_steps_sampled&#x27;: 9216, &#x27;num_agent_steps_trained&#x27;: 9216}</td><td>{}              </td><td>{&#x27;episode_reward_max&#x27;: -0.026413119659635775, &#x27;episode_reward_min&#x27;: -0.5383990223516743, &#x27;episode_reward_mean&#x27;: -0.241832893710534, &#x27;episode_len_mean&#x27;: 4608.0, &#x27;episode_media&#x27;: {}, &#x27;episodes_timesteps_total&#x27;: 18432, &#x27;policy_reward_min&#x27;: {&#x27;default_policy&#x27;: -0.5383990223516743}, &#x27;policy_reward_max&#x27;: {&#x27;default_policy&#x27;: -0.026413119659635775}, &#x27;policy_reward_mean&#x27;: {&#x27;default_policy&#x27;: -0.241832893710534}, &#x27;custom_metrics&#x27;: {}, &#x27;hist_stats&#x27;: {&#x27;episode_reward&#x27;: [-0.026413119659635775, -0.289006534054361, -0.5383990223516743, -0.11351289877646514], &#x27;episode_lengths&#x27;: [4608, 4608, 4608, 4608], &#x27;policy_default_policy_reward&#x27;: [-0.026413119659635775, -0.289006534054361, -0.5383990223516743, -0.11351289877646514]}, &#x27;sampler_perf&#x27;: {&#x27;mean_raw_obs_processing_ms&#x27;: 0.3003957124665803, &#x27;mean_inference_ms&#x27;: 2.263522162357776, &#x27;mean_action_processing_ms&#x27;: 0.34046714956110175, &#x27;mean_env_wait_ms&#x27;: 36.520311749144426, &#x27;mean_env_render_ms&#x27;: 0.0}, &#x27;num_faulty_episodes&#x27;: 0, &#x27;connector_metrics&#x27;: {}, &#x27;num_episodes&#x27;: 2, &#x27;episode_return_max&#x27;: -0.026413119659635775, &#x27;episode_return_min&#x27;: -0.5383990223516743, &#x27;episode_return_mean&#x27;: -0.241832893710534, &#x27;episodes_this_iter&#x27;: 2}</td><td>{}             </td><td>{&#x27;learner&#x27;: {&#x27;default_policy&#x27;: {&#x27;custom_metrics&#x27;: {}, &#x27;learner_stats&#x27;: {&#x27;cur_kl_coeff&#x27;: 0.19999999999999998, &#x27;cur_lr&#x27;: 5.000000000000001e-05, &#x27;total_loss&#x27;: 0.8331854235238603, &#x27;policy_loss&#x27;: -0.012277024415218168, &#x27;vf_loss&#x27;: 0.8433121180472275, &#x27;vf_explained_var&#x27;: 0.09739398454074506, &#x27;kl&#x27;: 0.010751673067173862, &#x27;entropy&#x27;: 11.413029075551917, &#x27;entropy_coeff&#x27;: 0.0}, &#x27;model&#x27;: {}, &#x27;num_grad_updates_lifetime&#x27;: 1620.5, &#x27;diff_num_grad_updates_vs_sampler_policy&#x27;: 539.5}}, &#x27;num_env_steps_sampled&#x27;: 9216, &#x27;num_env_steps_trained&#x27;: 9216, &#x27;num_agent_steps_sampled&#x27;: 9216, &#x27;num_agent_steps_trained&#x27;: 9216}</td><td style=\"text-align: right;\">                     9216</td><td style=\"text-align: right;\">                              9216</td><td style=\"text-align: right;\">                     9216</td><td style=\"text-align: right;\">                   9216</td><td style=\"text-align: right;\">                            9216</td><td style=\"text-align: right;\">                             4608</td><td style=\"text-align: right;\">                                   22.9041</td><td style=\"text-align: right;\">                   9216</td><td style=\"text-align: right;\">                             4608</td><td style=\"text-align: right;\">                                   22.9041</td><td style=\"text-align: right;\">                    2</td><td style=\"text-align: right;\">                                0</td><td style=\"text-align: right;\">                           0</td><td style=\"text-align: right;\">                         4608</td><td>{&#x27;cpu_util_percent&#x27;: 33.946341463414626, &#x27;ram_util_percent&#x27;: 66.25331010452963}</td><td>{&#x27;training_iteration_time_ms&#x27;: 203363.688, &#x27;restore_workers_time_ms&#x27;: 0.015, &#x27;training_step_time_ms&#x27;: 203363.646, &#x27;sample_time_ms&#x27;: 183002.71, &#x27;load_time_ms&#x27;: 4.346, &#x27;load_throughput&#x27;: 1060165.812, &#x27;learn_time_ms&#x27;: 20352.536, &#x27;learn_throughput&#x27;: 226.409, &#x27;synch_weights_time_ms&#x27;: 3.582}</td></tr>\n",
       "<tr><td>PPO_MonoAgentBuildingEnv_20e85_00003</td><td style=\"text-align: right;\">                   9216</td><td>{&#x27;num_env_steps_sampled&#x27;: 9216, &#x27;num_env_steps_trained&#x27;: 9216, &#x27;num_agent_steps_sampled&#x27;: 9216, &#x27;num_agent_steps_trained&#x27;: 9216}</td><td>{}              </td><td>{&#x27;episode_reward_max&#x27;: 0.11567400510584386, &#x27;episode_reward_min&#x27;: -0.4457487267681436, &#x27;episode_reward_mean&#x27;: -0.1634232394705986, &#x27;episode_len_mean&#x27;: 4608.0, &#x27;episode_media&#x27;: {}, &#x27;episodes_timesteps_total&#x27;: 18432, &#x27;policy_reward_min&#x27;: {&#x27;default_policy&#x27;: -0.4457487267681436}, &#x27;policy_reward_max&#x27;: {&#x27;default_policy&#x27;: 0.11567400510584386}, &#x27;policy_reward_mean&#x27;: {&#x27;default_policy&#x27;: -0.1634232394705986}, &#x27;custom_metrics&#x27;: {}, &#x27;hist_stats&#x27;: {&#x27;episode_reward&#x27;: [-0.4457487267681436, -0.35010204999768735, 0.026483813777592707, 0.11567400510584386], &#x27;episode_lengths&#x27;: [4608, 4608, 4608, 4608], &#x27;policy_default_policy_reward&#x27;: [-0.4457487267681436, -0.35010204999768735, 0.026483813777592707, 0.11567400510584386]}, &#x27;sampler_perf&#x27;: {&#x27;mean_raw_obs_processing_ms&#x27;: 0.30106758057463323, &#x27;mean_inference_ms&#x27;: 2.2512851309222808, &#x27;mean_action_processing_ms&#x27;: 0.34091159148494554, &#x27;mean_env_wait_ms&#x27;: 37.01172382719322, &#x27;mean_env_render_ms&#x27;: 0.0}, &#x27;num_faulty_episodes&#x27;: 0, &#x27;connector_metrics&#x27;: {}, &#x27;num_episodes&#x27;: 2, &#x27;episode_return_max&#x27;: 0.11567400510584386, &#x27;episode_return_min&#x27;: -0.4457487267681436, &#x27;episode_return_mean&#x27;: -0.1634232394705986, &#x27;episodes_this_iter&#x27;: 2}  </td><td>{}             </td><td>{&#x27;learner&#x27;: {&#x27;default_policy&#x27;: {&#x27;custom_metrics&#x27;: {}, &#x27;learner_stats&#x27;: {&#x27;cur_kl_coeff&#x27;: 0.3, &#x27;cur_lr&#x27;: 5.000000000000001e-05, &#x27;total_loss&#x27;: 0.8319804360915442, &#x27;policy_loss&#x27;: -0.011248280156265807, &#x27;vf_loss&#x27;: 0.8404700246329109, &#x27;vf_explained_var&#x27;: 0.10517181389861636, &#x27;kl&#x27;: 0.009195638103111152, &#x27;entropy&#x27;: 11.484760317096004, &#x27;entropy_coeff&#x27;: 0.0}, &#x27;model&#x27;: {}, &#x27;num_grad_updates_lifetime&#x27;: 1620.5, &#x27;diff_num_grad_updates_vs_sampler_policy&#x27;: 539.5}}, &#x27;num_env_steps_sampled&#x27;: 9216, &#x27;num_env_steps_trained&#x27;: 9216, &#x27;num_agent_steps_sampled&#x27;: 9216, &#x27;num_agent_steps_trained&#x27;: 9216}                </td><td style=\"text-align: right;\">                     9216</td><td style=\"text-align: right;\">                              9216</td><td style=\"text-align: right;\">                     9216</td><td style=\"text-align: right;\">                   9216</td><td style=\"text-align: right;\">                            9216</td><td style=\"text-align: right;\">                             4608</td><td style=\"text-align: right;\">                                   22.6688</td><td style=\"text-align: right;\">                   9216</td><td style=\"text-align: right;\">                             4608</td><td style=\"text-align: right;\">                                   22.6688</td><td style=\"text-align: right;\">                    2</td><td style=\"text-align: right;\">                                0</td><td style=\"text-align: right;\">                           0</td><td style=\"text-align: right;\">                         4608</td><td>{&#x27;cpu_util_percent&#x27;: 33.86275862068966, &#x27;ram_util_percent&#x27;: 66.24827586206897} </td><td>{&#x27;training_iteration_time_ms&#x27;: 205743.871, &#x27;restore_workers_time_ms&#x27;: 0.014, &#x27;training_step_time_ms&#x27;: 205743.832, &#x27;sample_time_ms&#x27;: 185246.904, &#x27;load_time_ms&#x27;: 6.071, &#x27;load_throughput&#x27;: 759051.658, &#x27;learn_time_ms&#x27;: 20486.625, &#x27;learn_throughput&#x27;: 224.927, &#x27;synch_weights_time_ms&#x27;: 3.716}</td></tr>\n",
       "</tbody>\n",
       "</table>\n",
       "</div>\n",
       "<style>\n",
       ".trialProgress {\n",
       "  display: flex;\n",
       "  flex-direction: column;\n",
       "  color: var(--jp-ui-font-color1);\n",
       "}\n",
       ".trialProgress h3 {\n",
       "  font-weight: bold;\n",
       "}\n",
       ".trialProgress td {\n",
       "  white-space: nowrap;\n",
       "}\n",
       "</style>\n"
      ],
      "text/plain": [
       "<IPython.core.display.HTML object>"
      ]
     },
     "metadata": {},
     "output_type": "display_data"
    },
    {
     "name": "stderr",
     "output_type": "stream",
     "text": [
      "\u001b[36m(PPO pid=41806)\u001b[0m Checkpoint successfully created at: Checkpoint(filesystem=local, path=/home/AD/user/ray_results/PPO_2025-01-22_15-32-44/PPO_MonoAgentBuildingEnv_20e85_00002_2_2025-01-22_15-32-45/checkpoint_000000)\n",
      "\u001b[36m(PPO pid=41805)\u001b[0m 2025-01-22 15:36:09,090\tWARNING deprecation.py:50 -- DeprecationWarning: `ray.rllib.execution.train_ops.multi_gpu_train_one_step` has been deprecated. This will raise an error in the future!\n"
     ]
    }
   ],
   "source": [
    "rl_experiments['monoagent'].run(dryrun=False)"
   ]
  },
  {
   "cell_type": "code",
   "execution_count": null,
   "metadata": {},
   "outputs": [],
   "source": []
  }
 ],
 "metadata": {
  "kernelspec": {
   "display_name": "Python 3 (ipykernel)",
   "language": "python",
   "name": "python3"
  }
 },
 "nbformat": 4,
 "nbformat_minor": 2
}
