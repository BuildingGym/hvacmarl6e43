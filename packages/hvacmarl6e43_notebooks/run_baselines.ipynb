{
 "cells": [
  {
   "cell_type": "code",
   "execution_count": 1,
   "metadata": {},
   "outputs": [
    {
     "name": "stderr",
     "output_type": "stream",
     "text": [
      "WARNING: All log messages before absl::InitializeLog() is called are written to STDERR\n",
      "E0000 00:00:1737434917.188597  550306 cuda_dnn.cc:8310] Unable to register cuDNN factory: Attempting to register factory for plugin cuDNN when one has already been registered\n",
      "E0000 00:00:1737434917.191918  550306 cuda_blas.cc:1418] Unable to register cuBLAS factory: Attempting to register factory for plugin cuBLAS when one has already been registered\n"
     ]
    }
   ],
   "source": [
    "from hvacmarl6e43.experiments import (\n",
    "    run_experiments,\n",
    "    baseline_experiments, \n",
    ")"
   ]
  },
  {
   "cell_type": "code",
   "execution_count": 2,
   "metadata": {},
   "outputs": [
    {
     "name": "stderr",
     "output_type": "stream",
     "text": [
      " /usr/lib/python3.11/tempfile.py:1043: ResourceWarning:Implicitly cleaning up <TemporaryDirectory '/tmp/.energyplus_output_xoc1miok'>\n",
      " /usr/lib/python3.11/tempfile.py:1043: ResourceWarning:Implicitly cleaning up <TemporaryDirectory '/tmp/.energyplus_output_qmfe6igc'>\n",
      " /usr/lib/python3.11/tempfile.py:1043: ResourceWarning:Implicitly cleaning up <TemporaryDirectory '/tmp/.energyplus_output_l85lpdc7'>\n",
      " /usr/lib/python3.11/tempfile.py:1043: ResourceWarning:Implicitly cleaning up <TemporaryDirectory '/tmp/.energyplus_output_okr1p77l'>\n",
      " /home/AD/user/lab/reports/2024xxxx/.venv/lib/python3.11/site-packages/tables/path.py:137: NaturalNameWarning:object name is not a valid Python identifier: '1FWEST'; it does not match the pattern ``^[a-zA-Z_][a-zA-Z0-9_]*$``; you will not be able to use natural naming to access this object; using ``getattr()`` will still work, though\n",
      " /home/AD/user/lab/reports/2024xxxx/.venv/lib/python3.11/site-packages/tables/path.py:137: NaturalNameWarning:object name is not a valid Python identifier: '1FEAST'; it does not match the pattern ``^[a-zA-Z_][a-zA-Z0-9_]*$``; you will not be able to use natural naming to access this object; using ``getattr()`` will still work, though\n",
      " /home/AD/user/lab/reports/2024xxxx/.venv/lib/python3.11/site-packages/tables/path.py:137: NaturalNameWarning:object name is not a valid Python identifier: '0FWEST'; it does not match the pattern ``^[a-zA-Z_][a-zA-Z0-9_]*$``; you will not be able to use natural naming to access this object; using ``getattr()`` will still work, though\n",
      " /home/AD/user/lab/reports/2024xxxx/.venv/lib/python3.11/site-packages/tables/path.py:137: NaturalNameWarning:object name is not a valid Python identifier: '0FEAST'; it does not match the pattern ``^[a-zA-Z_][a-zA-Z0-9_]*$``; you will not be able to use natural naming to access this object; using ``getattr()`` will still work, though\n",
      " /home/AD/user/lab/reports/2024xxxx/.venv/lib/python3.11/site-packages/tables/path.py:137: NaturalNameWarning:object name is not a valid Python identifier: '1FWEST1'; it does not match the pattern ``^[a-zA-Z_][a-zA-Z0-9_]*$``; you will not be able to use natural naming to access this object; using ``getattr()`` will still work, though\n",
      " /home/AD/user/lab/reports/2024xxxx/.venv/lib/python3.11/site-packages/tables/path.py:137: NaturalNameWarning:object name is not a valid Python identifier: '1FEAST1'; it does not match the pattern ``^[a-zA-Z_][a-zA-Z0-9_]*$``; you will not be able to use natural naming to access this object; using ``getattr()`` will still work, though\n",
      " /home/AD/user/lab/reports/2024xxxx/.venv/lib/python3.11/site-packages/tables/path.py:137: NaturalNameWarning:object name is not a valid Python identifier: '0FWEST1'; it does not match the pattern ``^[a-zA-Z_][a-zA-Z0-9_]*$``; you will not be able to use natural naming to access this object; using ``getattr()`` will still work, though\n",
      " /home/AD/user/lab/reports/2024xxxx/.venv/lib/python3.11/site-packages/tables/path.py:137: NaturalNameWarning:object name is not a valid Python identifier: '0FEAST1'; it does not match the pattern ``^[a-zA-Z_][a-zA-Z0-9_]*$``; you will not be able to use natural naming to access this object; using ``getattr()`` will still work, though\n",
      " /home/AD/user/lab/reports/2024xxxx/.venv/lib/python3.11/site-packages/tables/path.py:137: NaturalNameWarning:object name is not a valid Python identifier: '1FWEST'; it does not match the pattern ``^[a-zA-Z_][a-zA-Z0-9_]*$``; you will not be able to use natural naming to access this object; using ``getattr()`` will still work, though\n",
      " /home/AD/user/lab/reports/2024xxxx/.venv/lib/python3.11/site-packages/tables/path.py:137: NaturalNameWarning:object name is not a valid Python identifier: '1FEAST'; it does not match the pattern ``^[a-zA-Z_][a-zA-Z0-9_]*$``; you will not be able to use natural naming to access this object; using ``getattr()`` will still work, though\n",
      " /home/AD/user/lab/reports/2024xxxx/.venv/lib/python3.11/site-packages/tables/path.py:137: NaturalNameWarning:object name is not a valid Python identifier: '0FWEST'; it does not match the pattern ``^[a-zA-Z_][a-zA-Z0-9_]*$``; you will not be able to use natural naming to access this object; using ``getattr()`` will still work, though\n",
      " /home/AD/user/lab/reports/2024xxxx/.venv/lib/python3.11/site-packages/tables/path.py:137: NaturalNameWarning:object name is not a valid Python identifier: '0FEAST'; it does not match the pattern ``^[a-zA-Z_][a-zA-Z0-9_]*$``; you will not be able to use natural naming to access this object; using ``getattr()`` will still work, though\n",
      " /home/AD/user/lab/reports/2024xxxx/.venv/lib/python3.11/site-packages/tables/path.py:137: NaturalNameWarning:object name is not a valid Python identifier: '1FWEST1'; it does not match the pattern ``^[a-zA-Z_][a-zA-Z0-9_]*$``; you will not be able to use natural naming to access this object; using ``getattr()`` will still work, though\n",
      " /home/AD/user/lab/reports/2024xxxx/.venv/lib/python3.11/site-packages/tables/path.py:137: NaturalNameWarning:object name is not a valid Python identifier: '1FEAST1'; it does not match the pattern ``^[a-zA-Z_][a-zA-Z0-9_]*$``; you will not be able to use natural naming to access this object; using ``getattr()`` will still work, though\n",
      " /home/AD/user/lab/reports/2024xxxx/.venv/lib/python3.11/site-packages/tables/path.py:137: NaturalNameWarning:object name is not a valid Python identifier: '0FWEST1'; it does not match the pattern ``^[a-zA-Z_][a-zA-Z0-9_]*$``; you will not be able to use natural naming to access this object; using ``getattr()`` will still work, though\n",
      " /home/AD/user/lab/reports/2024xxxx/.venv/lib/python3.11/site-packages/tables/path.py:137: NaturalNameWarning:object name is not a valid Python identifier: '0FEAST1'; it does not match the pattern ``^[a-zA-Z_][a-zA-Z0-9_]*$``; you will not be able to use natural naming to access this object; using ``getattr()`` will still work, though\n"
     ]
    }
   ],
   "source": [
    "run_experiments(baseline_experiments.values(), dryrun=False)"
   ]
  }
 ],
 "metadata": {
  "kernelspec": {
   "display_name": ".venv",
   "language": "python",
   "name": "python3"
  },
  "language_info": {
   "codemirror_mode": {
    "name": "ipython",
    "version": 3
   },
   "file_extension": ".py",
   "mimetype": "text/x-python",
   "name": "python",
   "nbconvert_exporter": "python",
   "pygments_lexer": "ipython3",
   "version": "3.11.2"
  }
 },
 "nbformat": 4,
 "nbformat_minor": 2
}
