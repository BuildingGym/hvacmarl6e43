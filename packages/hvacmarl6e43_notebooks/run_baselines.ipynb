{
 "cells": [
  {
   "cell_type": "code",
   "execution_count": 1,
   "metadata": {},
   "outputs": [
    {
     "name": "stderr",
     "output_type": "stream",
     "text": [
      "/home/AD/user/lab/hvacmarl6e43/.venv/lib/python3.11/site-packages/tqdm/auto.py:21: TqdmWarning: IProgress not found. Please update jupyter and ipywidgets. See https://ipywidgets.readthedocs.io/en/stable/user_install.html\n",
      "  from .autonotebook import tqdm as notebook_tqdm\n",
      "2025-01-22 15:26:20,388\tINFO util.py:154 -- Missing packages: ['ipywidgets']. Run `pip install -U ipywidgets`, then restart the notebook server for rich notebook output.\n",
      "2025-01-22 15:26:20,482\tINFO util.py:154 -- Missing packages: ['ipywidgets']. Run `pip install -U ipywidgets`, then restart the notebook server for rich notebook output.\n"
     ]
    }
   ],
   "source": [
    "from hvacmarl6e43.experiments import (\n",
    "    run_experiments,\n",
    "    baseline_experiments, \n",
    ")"
   ]
  },
  {
   "cell_type": "code",
   "execution_count": 2,
   "metadata": {},
   "outputs": [
    {
     "name": "stderr",
     "output_type": "stream",
     "text": [
      "/usr/lib/python3.11/tempfile.py:1043: ResourceWarning: Implicitly cleaning up <TemporaryDirectory '/tmp/.energyplus_output_hb1j8fgl'>\n",
      "  _warnings.warn(warn_message, ResourceWarning)\n",
      "/usr/lib/python3.11/tempfile.py:1043: ResourceWarning: Implicitly cleaning up <TemporaryDirectory '/tmp/.energyplus_output_ckm2zge7'>\n",
      "  _warnings.warn(warn_message, ResourceWarning)\n",
      "/usr/lib/python3.11/tempfile.py:1043: ResourceWarning: Implicitly cleaning up <TemporaryDirectory '/tmp/.energyplus_output_6afh1ccb'>\n",
      "  _warnings.warn(warn_message, ResourceWarning)\n",
      "/usr/lib/python3.11/tempfile.py:1043: ResourceWarning: Implicitly cleaning up <TemporaryDirectory '/tmp/.energyplus_output_8bru9kjy'>\n",
      "  _warnings.warn(warn_message, ResourceWarning)\n",
      "/home/AD/user/lab/hvacmarl6e43/.venv/lib/python3.11/site-packages/tables/path.py:146: NaturalNameWarning: object name is not a valid Python identifier: '1FWEST'; it does not match the pattern ``^[a-zA-Z_][a-zA-Z0-9_]*$``; you will not be able to use natural naming to access this object; using ``getattr()`` will still work, though\n",
      "  check_attribute_name(name)\n",
      "/home/AD/user/lab/hvacmarl6e43/.venv/lib/python3.11/site-packages/tables/path.py:146: NaturalNameWarning: object name is not a valid Python identifier: '1FEAST'; it does not match the pattern ``^[a-zA-Z_][a-zA-Z0-9_]*$``; you will not be able to use natural naming to access this object; using ``getattr()`` will still work, though\n",
      "  check_attribute_name(name)\n",
      "/home/AD/user/lab/hvacmarl6e43/.venv/lib/python3.11/site-packages/tables/path.py:146: NaturalNameWarning: object name is not a valid Python identifier: '0FWEST'; it does not match the pattern ``^[a-zA-Z_][a-zA-Z0-9_]*$``; you will not be able to use natural naming to access this object; using ``getattr()`` will still work, though\n",
      "  check_attribute_name(name)\n",
      "/home/AD/user/lab/hvacmarl6e43/.venv/lib/python3.11/site-packages/tables/path.py:146: NaturalNameWarning: object name is not a valid Python identifier: '0FEAST'; it does not match the pattern ``^[a-zA-Z_][a-zA-Z0-9_]*$``; you will not be able to use natural naming to access this object; using ``getattr()`` will still work, though\n",
      "  check_attribute_name(name)\n",
      "/home/AD/user/lab/hvacmarl6e43/.venv/lib/python3.11/site-packages/tables/path.py:146: NaturalNameWarning: object name is not a valid Python identifier: '1FWEST1'; it does not match the pattern ``^[a-zA-Z_][a-zA-Z0-9_]*$``; you will not be able to use natural naming to access this object; using ``getattr()`` will still work, though\n",
      "  check_attribute_name(name)\n",
      "/home/AD/user/lab/hvacmarl6e43/.venv/lib/python3.11/site-packages/tables/path.py:146: NaturalNameWarning: object name is not a valid Python identifier: '1FEAST1'; it does not match the pattern ``^[a-zA-Z_][a-zA-Z0-9_]*$``; you will not be able to use natural naming to access this object; using ``getattr()`` will still work, though\n",
      "  check_attribute_name(name)\n",
      "/home/AD/user/lab/hvacmarl6e43/.venv/lib/python3.11/site-packages/tables/path.py:146: NaturalNameWarning: object name is not a valid Python identifier: '0FWEST1'; it does not match the pattern ``^[a-zA-Z_][a-zA-Z0-9_]*$``; you will not be able to use natural naming to access this object; using ``getattr()`` will still work, though\n",
      "  check_attribute_name(name)\n",
      "/home/AD/user/lab/hvacmarl6e43/.venv/lib/python3.11/site-packages/tables/path.py:146: NaturalNameWarning: object name is not a valid Python identifier: '0FEAST1'; it does not match the pattern ``^[a-zA-Z_][a-zA-Z0-9_]*$``; you will not be able to use natural naming to access this object; using ``getattr()`` will still work, though\n",
      "  check_attribute_name(name)\n",
      "/home/AD/user/lab/hvacmarl6e43/.venv/lib/python3.11/site-packages/tables/path.py:146: NaturalNameWarning: object name is not a valid Python identifier: '1FWEST'; it does not match the pattern ``^[a-zA-Z_][a-zA-Z0-9_]*$``; you will not be able to use natural naming to access this object; using ``getattr()`` will still work, though\n",
      "  check_attribute_name(name)\n",
      "/home/AD/user/lab/hvacmarl6e43/.venv/lib/python3.11/site-packages/tables/path.py:146: NaturalNameWarning: object name is not a valid Python identifier: '1FEAST'; it does not match the pattern ``^[a-zA-Z_][a-zA-Z0-9_]*$``; you will not be able to use natural naming to access this object; using ``getattr()`` will still work, though\n",
      "  check_attribute_name(name)\n",
      "/home/AD/user/lab/hvacmarl6e43/.venv/lib/python3.11/site-packages/tables/path.py:146: NaturalNameWarning: object name is not a valid Python identifier: '0FWEST'; it does not match the pattern ``^[a-zA-Z_][a-zA-Z0-9_]*$``; you will not be able to use natural naming to access this object; using ``getattr()`` will still work, though\n",
      "  check_attribute_name(name)\n",
      "/home/AD/user/lab/hvacmarl6e43/.venv/lib/python3.11/site-packages/tables/path.py:146: NaturalNameWarning: object name is not a valid Python identifier: '0FEAST'; it does not match the pattern ``^[a-zA-Z_][a-zA-Z0-9_]*$``; you will not be able to use natural naming to access this object; using ``getattr()`` will still work, though\n",
      "  check_attribute_name(name)\n",
      "/home/AD/user/lab/hvacmarl6e43/.venv/lib/python3.11/site-packages/tables/path.py:146: NaturalNameWarning: object name is not a valid Python identifier: '1FWEST1'; it does not match the pattern ``^[a-zA-Z_][a-zA-Z0-9_]*$``; you will not be able to use natural naming to access this object; using ``getattr()`` will still work, though\n",
      "  check_attribute_name(name)\n",
      "/home/AD/user/lab/hvacmarl6e43/.venv/lib/python3.11/site-packages/tables/path.py:146: NaturalNameWarning: object name is not a valid Python identifier: '1FEAST1'; it does not match the pattern ``^[a-zA-Z_][a-zA-Z0-9_]*$``; you will not be able to use natural naming to access this object; using ``getattr()`` will still work, though\n",
      "  check_attribute_name(name)\n",
      "/home/AD/user/lab/hvacmarl6e43/.venv/lib/python3.11/site-packages/tables/path.py:146: NaturalNameWarning: object name is not a valid Python identifier: '0FWEST1'; it does not match the pattern ``^[a-zA-Z_][a-zA-Z0-9_]*$``; you will not be able to use natural naming to access this object; using ``getattr()`` will still work, though\n",
      "  check_attribute_name(name)\n",
      "/home/AD/user/lab/hvacmarl6e43/.venv/lib/python3.11/site-packages/tables/path.py:146: NaturalNameWarning: object name is not a valid Python identifier: '0FEAST1'; it does not match the pattern ``^[a-zA-Z_][a-zA-Z0-9_]*$``; you will not be able to use natural naming to access this object; using ``getattr()`` will still work, though\n",
      "  check_attribute_name(name)\n"
     ]
    }
   ],
   "source": [
    "run_experiments(baseline_experiments.values(), dryrun=False)"
   ]
  }
 ],
 "metadata": {
  "kernelspec": {
   "display_name": ".venv",
   "language": "python",
   "name": "python3"
  },
  "language_info": {
   "codemirror_mode": {
    "name": "ipython",
    "version": 3
   },
   "file_extension": ".py",
   "mimetype": "text/x-python",
   "name": "python",
   "nbconvert_exporter": "python",
   "pygments_lexer": "ipython3",
   "version": "3.11.2"
  }
 },
 "nbformat": 4,
 "nbformat_minor": 2
}
